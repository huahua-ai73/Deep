{
 "cells": [
  {
   "cell_type": "code",
   "execution_count": 2,
   "id": "469cf40f",
   "metadata": {},
   "outputs": [
    {
     "name": "stdout",
     "output_type": "stream",
     "text": [
      "2.6.2\n",
      "2.6.0\n"
     ]
    }
   ],
   "source": [
    "import tensorflow as tf\n",
    "from tensorflow.keras import layers\n",
    "print(tf.__version__)\n",
    "print(tf.keras.__version__)"
   ]
  },
  {
   "cell_type": "code",
   "execution_count": 3,
   "id": "e06aa1aa",
   "metadata": {},
   "outputs": [],
   "source": [
    "#常见的模型堆叠：tf.keras.Sequential 模型\n",
    "model = tf.keras.Sequential()\n",
    "model.add(layers.Dense(32, activation='relu'))\n",
    "model.add(layers.Dense(32, activation='relu'))\n",
    "model.add(layers.Dense(10, activation='softmax'))"
   ]
  },
  {
   "cell_type": "code",
   "execution_count": 4,
   "id": "dea76d54",
   "metadata": {},
   "outputs": [
    {
     "data": {
      "text/plain": [
       "<keras.layers.core.Dense at 0x247d4196438>"
      ]
     },
     "execution_count": 4,
     "metadata": {},
     "output_type": "execute_result"
    }
   ],
   "source": [
    "#网络配置\n",
    "'''\n",
    "tf.keras.layers中网络配置：\n",
    "\n",
    "activation：设置层的激活函数。此参数由内置函数的名称指定，或指定为可调用对象。默认情况下，系统不会应用任何激活函数。\n",
    "\n",
    "kernel_initializer 和 bias_initializer：创建层权重（核和偏差）的初始化方案。此参数是一个名称或可调用对象，默认为 \"Glorot uniform\" 初始化器。\n",
    "\n",
    "kernel_regularizer 和 bias_regularizer：应用层权重（核和偏差）的正则化方案，例如 L1 或 L2 正则化。默认情况下，系统不会应用正则化函数。\n",
    "'''\n",
    "#设置层的激活函数\n",
    "layers.Dense(32, activation='sigmoid')\n",
    "layers.Dense(32, activation=tf.sigmoid)\n",
    "#创建层权重的初始方案，默认为 \"Glorot uniform\" 初始化器。\n",
    "layers.Dense(32, kernel_initializer='orthogonal')\n",
    "layers.Dense(32, kernel_initializer=tf.keras.initializers.glorot_normal)\n",
    "#kernel_regularizer应用层权重的正则化方法\n",
    "layers.Dense(32, kernel_regularizer=tf.keras.regularizers.l2(0.01))\n",
    "layers.Dense(32, kernel_regularizer=tf.keras.regularizers.l1(0.01))"
   ]
  },
  {
   "cell_type": "code",
   "execution_count": 5,
   "id": "2446b507",
   "metadata": {},
   "outputs": [],
   "source": [
    "#设置训练流程\n",
    "model = tf.keras.Sequential()\n",
    "model.add(layers.Dense(32, activation='relu'))\n",
    "model.add(layers.Dense(32, activation='relu'))\n",
    "model.add(layers.Dense(10, activation='softmax'))\n",
    "#model.compile()配置该模型的学习流程\n",
    "#optimizer优化器\n",
    "#loss损失函数\n",
    "#metrics准确率\n",
    "model.compile(optimizer=tf.keras.optimizers.Adam(0.001),\n",
    "             loss=tf.keras.losses.categorical_crossentropy,\n",
    "             metrics=[tf.keras.metrics.categorical_accuracy])"
   ]
  },
  {
   "cell_type": "code",
   "execution_count": 6,
   "id": "48e7044c",
   "metadata": {},
   "outputs": [
    {
     "name": "stdout",
     "output_type": "stream",
     "text": [
      "Epoch 1/10\n",
      "10/10 [==============================] - 1s 19ms/step - loss: 11.7784 - categorical_accuracy: 0.0990 - val_loss: 12.0267 - val_categorical_accuracy: 0.0850\n",
      "Epoch 2/10\n",
      "10/10 [==============================] - 0s 5ms/step - loss: 12.1526 - categorical_accuracy: 0.0980 - val_loss: 12.6912 - val_categorical_accuracy: 0.1050\n",
      "Epoch 3/10\n",
      "10/10 [==============================] - 0s 4ms/step - loss: 13.0301 - categorical_accuracy: 0.0990 - val_loss: 13.7589 - val_categorical_accuracy: 0.0750\n",
      "Epoch 4/10\n",
      "10/10 [==============================] - 0s 4ms/step - loss: 14.3070 - categorical_accuracy: 0.0960 - val_loss: 15.6395 - val_categorical_accuracy: 0.0800\n",
      "Epoch 5/10\n",
      "10/10 [==============================] - 0s 4ms/step - loss: 16.7608 - categorical_accuracy: 0.0980 - val_loss: 18.7453 - val_categorical_accuracy: 0.0800\n",
      "Epoch 6/10\n",
      "10/10 [==============================] - 0s 4ms/step - loss: 19.5944 - categorical_accuracy: 0.0980 - val_loss: 21.1994 - val_categorical_accuracy: 0.0800\n",
      "Epoch 7/10\n",
      "10/10 [==============================] - 0s 4ms/step - loss: 22.3003 - categorical_accuracy: 0.0940 - val_loss: 24.7351 - val_categorical_accuracy: 0.1050\n",
      "Epoch 8/10\n",
      "10/10 [==============================] - 0s 5ms/step - loss: 26.2568 - categorical_accuracy: 0.0850 - val_loss: 28.8648 - val_categorical_accuracy: 0.1000\n",
      "Epoch 9/10\n",
      "10/10 [==============================] - 0s 4ms/step - loss: 30.1405 - categorical_accuracy: 0.1000 - val_loss: 33.0108 - val_categorical_accuracy: 0.0800\n",
      "Epoch 10/10\n",
      "10/10 [==============================] - 0s 4ms/step - loss: 34.6519 - categorical_accuracy: 0.0910 - val_loss: 38.2923 - val_categorical_accuracy: 0.1000\n"
     ]
    },
    {
     "data": {
      "text/plain": [
       "<keras.callbacks.History at 0x247d5113f98>"
      ]
     },
     "execution_count": 6,
     "metadata": {},
     "output_type": "execute_result"
    }
   ],
   "source": [
    "#输出NUMpy数据\n",
    "import numpy as np\n",
    "#生成1000行，72列的浮点数，从0-1之间生成\n",
    "train_x = np.random.random((1000, 72))\n",
    "##生成1000行，10列的浮点数，从0-1之间生成\n",
    "train_y = np.random.random((1000, 10))\n",
    "#生成200行，72列的浮点数，从0-1之间生成\n",
    "val_x = np.random.random((200, 72))\n",
    "#生成200行，10列的浮点数，从0-1之间生成\n",
    "val_y = np.random.random((200, 10))\n",
    "#输入训练集、标签、每一个batch的大小（每次取训练样本个数），epochs迭代次数\n",
    "#validation_data测试集的输入特征和标签\n",
    "#batch_size每次训练取100个训练样本\n",
    "model.fit(train_x, train_y, epochs=10, batch_size=100,\n",
    "          validation_data=(val_x, val_y))"
   ]
  },
  {
   "cell_type": "code",
   "execution_count": 7,
   "id": "f98312eb",
   "metadata": {},
   "outputs": [
    {
     "name": "stdout",
     "output_type": "stream",
     "text": [
      "Epoch 1/10\n",
      "30/30 [==============================] - 0s 8ms/step - loss: 46.0384 - categorical_accuracy: 0.0833 - val_loss: 56.8746 - val_categorical_accuracy: 0.0729\n",
      "Epoch 2/10\n",
      "30/30 [==============================] - 0s 3ms/step - loss: 66.2688 - categorical_accuracy: 0.0833 - val_loss: 82.0867 - val_categorical_accuracy: 0.0938\n",
      "Epoch 3/10\n",
      "30/30 [==============================] - 0s 3ms/step - loss: 97.1471 - categorical_accuracy: 0.1047 - val_loss: 120.1382 - val_categorical_accuracy: 0.1354\n",
      "Epoch 4/10\n",
      "30/30 [==============================] - 0s 2ms/step - loss: 138.7515 - categorical_accuracy: 0.0983 - val_loss: 166.7855 - val_categorical_accuracy: 0.1354\n",
      "Epoch 5/10\n",
      "30/30 [==============================] - 0s 3ms/step - loss: 185.3028 - categorical_accuracy: 0.0962 - val_loss: 215.7635 - val_categorical_accuracy: 0.0417\n",
      "Epoch 6/10\n",
      "30/30 [==============================] - 0s 3ms/step - loss: 235.1009 - categorical_accuracy: 0.0929 - val_loss: 272.3883 - val_categorical_accuracy: 0.0417\n",
      "Epoch 7/10\n",
      "30/30 [==============================] - 0s 3ms/step - loss: 291.3012 - categorical_accuracy: 0.1079 - val_loss: 336.1595 - val_categorical_accuracy: 0.0312\n",
      "Epoch 8/10\n",
      "30/30 [==============================] - 0s 3ms/step - loss: 352.1001 - categorical_accuracy: 0.1068 - val_loss: 398.4627 - val_categorical_accuracy: 0.1146\n",
      "Epoch 9/10\n",
      "30/30 [==============================] - 0s 2ms/step - loss: 411.0813 - categorical_accuracy: 0.1047 - val_loss: 455.5827 - val_categorical_accuracy: 0.1354\n",
      "Epoch 10/10\n",
      "30/30 [==============================] - 0s 2ms/step - loss: 462.0014 - categorical_accuracy: 0.1090 - val_loss: 498.4996 - val_categorical_accuracy: 0.1354\n"
     ]
    },
    {
     "data": {
      "text/plain": [
       "<keras.callbacks.History at 0x247d72cc668>"
      ]
     },
     "execution_count": 7,
     "metadata": {},
     "output_type": "execute_result"
    }
   ],
   "source": [
    "#tf.data输入数据\n",
    "#tf.data.Dataset.from_tensor_slices()的作用就是把数据的每一行分开\n",
    "#也就是每一个标签所对应的全部特征值作为一个向量\n",
    "dataset = tf.data.Dataset.from_tensor_slices((train_x, train_y))\n",
    "#设置批次，确定一次所要输出的批次数量\n",
    "dataset = dataset.batch(32)\n",
    "#重复无数遍（无参数情况）repeat(count=None)（有参数，循环count次）\n",
    "dataset = dataset.repeat()\n",
    "val_dataset = tf.data.Dataset.from_tensor_slices((val_x, val_y))\n",
    "val_dataset = val_dataset.batch(32)\n",
    "val_dataset = val_dataset.repeat()\n",
    "#steps_per_epoch一个训练集迭代的总次数（每个epoch）\n",
    "#validation_data测试集样本\n",
    "#validation_steps：设置一个验证集batch使用个数，batch为32的，使用三个\n",
    "model.fit(dataset, epochs=10, steps_per_epoch=30,\n",
    "          validation_data=val_dataset, validation_steps=3)"
   ]
  },
  {
   "cell_type": "code",
   "execution_count": 8,
   "id": "28a834e8",
   "metadata": {},
   "outputs": [
    {
     "name": "stdout",
     "output_type": "stream",
     "text": [
      "32/32 [==============================] - 0s 2ms/step - loss: 481.6104 - categorical_accuracy: 0.1040\n",
      "10/10 [==============================] - 0s 2ms/step - loss: 470.5091 - categorical_accuracy: 0.1312\n",
      "[[1.5806141e-01 5.8362426e-10 3.0053428e-01 ... 9.5728770e-02\n",
      "  0.0000000e+00 0.0000000e+00]\n",
      " [1.3607557e-01 1.7848011e-09 4.0014368e-01 ... 7.7951089e-02\n",
      "  0.0000000e+00 0.0000000e+00]\n",
      " [1.1439792e-01 2.5014249e-10 3.3312923e-01 ... 9.8280676e-02\n",
      "  0.0000000e+00 0.0000000e+00]\n",
      " ...\n",
      " [1.0907420e-01 9.3458152e-10 2.6772961e-01 ... 9.9216253e-02\n",
      "  0.0000000e+00 0.0000000e+00]\n",
      " [1.1852673e-01 2.9757607e-10 3.3666345e-01 ... 1.0348185e-01\n",
      "  0.0000000e+00 0.0000000e+00]\n",
      " [8.5383840e-02 7.2767631e-10 1.4257272e-01 ... 8.5885607e-02\n",
      "  0.0000000e+00 0.0000000e+00]]\n",
      "(1000, 10)\n"
     ]
    }
   ],
   "source": [
    "#评估预测\n",
    "test_x = np.random.random((1000, 72))\n",
    "test_y = np.random.random((1000, 10))\n",
    "#evaluate（）输入数据和标签，得到损失和精确度\n",
    "#batch_size每次训练取32个训练样本，得出32个样本的误差平方和，训练完成后，进行全部平均\n",
    "model.evaluate(test_x, test_y, batch_size=32)\n",
    "test_data = tf.data.Dataset.from_tensor_slices((test_x, test_y))\n",
    "test_data = test_data.batch(32).repeat()\n",
    "#steps：样本批次\n",
    "#这个steps参数没看懂啥意思\n",
    "model.evaluate(test_data, steps=10)\n",
    "# predict（）单纯输出训练结果,训练批次为32个训练集\n",
    "result = model.predict(test_x, batch_size=0)\n",
    "print(result)\n",
    "print(result.shape)"
   ]
  },
  {
   "cell_type": "code",
   "execution_count": 9,
   "id": "47f505f2",
   "metadata": {},
   "outputs": [
    {
     "data": {
      "text/plain": [
       "'\\n多输入模型，\\n\\n多输出模型，\\n\\n具有共享层的模型（同一层被调用多次），\\n\\n具有非序列数据流的模型（例如，残差连接）\\n'"
      ]
     },
     "execution_count": 9,
     "metadata": {},
     "output_type": "execute_result"
    }
   ],
   "source": [
    "#构建高级模型\n",
    "#tf.keras.Sequential 模型是层的简单堆叠，无法表示任意模型。使用 Keras 函数式 API 可以构建复杂的模型拓扑\n",
    "'''\n",
    "多输入模型，\n",
    "\n",
    "多输出模型，\n",
    "\n",
    "具有共享层的模型（同一层被调用多次），\n",
    "\n",
    "具有非序列数据流的模型（例如，残差连接）\n",
    "'''"
   ]
  },
  {
   "cell_type": "code",
   "execution_count": 10,
   "id": "9ad1ed28",
   "metadata": {},
   "outputs": [
    {
     "name": "stdout",
     "output_type": "stream",
     "text": [
      "Epoch 1/5\n",
      "32/32 [==============================] - 0s 2ms/step - loss: 13.0728 - accuracy: 0.0960\n",
      "Epoch 2/5\n",
      "32/32 [==============================] - 0s 2ms/step - loss: 18.4170 - accuracy: 0.1050\n",
      "Epoch 3/5\n",
      "32/32 [==============================] - 0s 1ms/step - loss: 27.9735 - accuracy: 0.1090\n",
      "Epoch 4/5\n",
      "32/32 [==============================] - 0s 2ms/step - loss: 44.5460 - accuracy: 0.1070\n",
      "Epoch 5/5\n",
      "32/32 [==============================] - 0s 1ms/step - loss: 69.3377 - accuracy: 0.1110\n"
     ]
    },
    {
     "data": {
      "text/plain": [
       "<keras.callbacks.History at 0x247d744f860>"
      ]
     },
     "execution_count": 10,
     "metadata": {},
     "output_type": "execute_result"
    }
   ],
   "source": [
    "#设置输入矩阵的形状\n",
    "input_x = tf.keras.Input(shape=(72,))\n",
    "hidden1 = layers.Dense(32, activation='relu')(input_x)\n",
    "hidden2 = layers.Dense(16, activation='relu')(hidden1)\n",
    "pred = layers.Dense(10, activation='softmax')(hidden2)\n",
    "#将输入层和输出层给定\n",
    "model = tf.keras.Model(inputs=input_x, outputs=pred)\n",
    "#model.compile配置网络流程图\n",
    "#优化器为Adam\n",
    "#损失函数loss\n",
    "#metrics指标\n",
    "model.compile(optimizer=tf.keras.optimizers.Adam(0.001),\n",
    "             loss=tf.keras.losses.categorical_crossentropy,\n",
    "             metrics=['accuracy'])\n",
    "#分五个批次，一个批次32个样本数据\n",
    "model.fit(train_x, train_y, batch_size=32, epochs=5)"
   ]
  },
  {
   "cell_type": "code",
   "execution_count": 11,
   "id": "f4849d56",
   "metadata": {},
   "outputs": [
    {
     "name": "stdout",
     "output_type": "stream",
     "text": [
      "Epoch 1/5\n",
      "63/63 [==============================] - 1s 1ms/step - loss: 14.5805 - accuracy: 0.1040\n",
      "Epoch 2/5\n",
      "63/63 [==============================] - 0s 1ms/step - loss: 20.6049 - accuracy: 0.1010\n",
      "Epoch 3/5\n",
      "63/63 [==============================] - 0s 1ms/step - loss: 25.9670 - accuracy: 0.1100\n",
      "Epoch 4/5\n",
      "63/63 [==============================] - 0s 1ms/step - loss: 30.4305 - accuracy: 0.1060\n",
      "Epoch 5/5\n",
      "63/63 [==============================] - 0s 1ms/step - loss: 34.0868 - accuracy: 0.1110\n"
     ]
    },
    {
     "data": {
      "text/plain": [
       "<keras.callbacks.History at 0x247d8504c50>"
      ]
     },
     "execution_count": 11,
     "metadata": {},
     "output_type": "execute_result"
    }
   ],
   "source": [
    "#模型子类化\n",
    "#通过对 tf.keras.Model 进行子类化并定义您自己的前向传播来构建完全可自定义的模型\n",
    "#在 init 方法中创建层并将它们设置为类实例的属性\n",
    "class MyModel(tf.keras.Model):\n",
    "    def __init__(self, num_classes=10):\n",
    "        super(MyModel, self).__init__(name='my_model')\n",
    "        self.num_classes = num_classes\n",
    "        self.layer1 = layers.Dense(32, activation='relu')\n",
    "        self.layer2 = layers.Dense(num_classes, activation='softmax')\n",
    "    #call方法中定义前向传播\n",
    "    def call(self, inputs):\n",
    "        #再层一中传入inputs\n",
    "        h1 = self.layer1(inputs)\n",
    "        #再层二中传入h1\n",
    "        out = self.layer2(h1)\n",
    "        return out\n",
    "    #定义一个改变\n",
    "    def compute_output_shape(self, input_shape):\n",
    "        #获取张量大小并作为列表输出\n",
    "        #tf.TensorShape（）表示张量的形状\n",
    "        shape = tf.TensorShape(input_shape).as_list()\n",
    "        #将列表的最后一元素变为self.num_classes\n",
    "        shape[-1] = self.num_classes\n",
    "        return tf.TensorShape(shape)\n",
    "\n",
    "model = MyModel(num_classes=10)\n",
    "model.compile(optimizer=tf.keras.optimizers.RMSprop(0.001),\n",
    "             loss=tf.keras.losses.categorical_crossentropy,\n",
    "             metrics=['accuracy'])\n",
    "\n",
    "model.fit(train_x, train_y, batch_size=16, epochs=5)"
   ]
  },
  {
   "cell_type": "code",
   "execution_count": 19,
   "id": "aecfbf13",
   "metadata": {},
   "outputs": [
    {
     "name": "stdout",
     "output_type": "stream",
     "text": [
      "['__add__', '__class__', '__contains__', '__delattr__', '__dir__', '__doc__', '__eq__', '__format__', '__ge__', '__getattribute__', '__getitem__', '__getnewargs__', '__gt__', '__hash__', '__init__', '__init_subclass__', '__iter__', '__le__', '__len__', '__lt__', '__mod__', '__mul__', '__ne__', '__new__', '__reduce__', '__reduce_ex__', '__repr__', '__rmod__', '__rmul__', '__setattr__', '__sizeof__', '__str__', '__subclasshook__', 'capitalize', 'casefold', 'center', 'count', 'encode', 'endswith', 'expandtabs', 'find', 'format', 'format_map', 'index', 'isalnum', 'isalpha', 'isdecimal', 'isdigit', 'isidentifier', 'islower', 'isnumeric', 'isprintable', 'isspace', 'istitle', 'isupper', 'join', 'ljust', 'lower', 'lstrip', 'maketrans', 'partition', 'replace', 'rfind', 'rindex', 'rjust', 'rpartition', 'rsplit', 'rstrip', 'split', 'splitlines', 'startswith', 'strip', 'swapcase', 'title', 'translate', 'upper', 'zfill']\n"
     ]
    }
   ],
   "source": [
    "print(dir(tf.keras.Model.__doc__))"
   ]
  },
  {
   "cell_type": "code",
   "execution_count": null,
   "id": "31c8351a",
   "metadata": {},
   "outputs": [],
   "source": []
  },
  {
   "cell_type": "code",
   "execution_count": 12,
   "id": "c4fdfba7",
   "metadata": {},
   "outputs": [
    {
     "name": "stdout",
     "output_type": "stream",
     "text": [
      "Epoch 1/5\n",
      "63/63 [==============================] - 0s 1ms/step - loss: 11.5006 - accuracy: 0.1100\n",
      "Epoch 2/5\n",
      "63/63 [==============================] - 0s 2ms/step - loss: 11.4981 - accuracy: 0.0970\n",
      "Epoch 3/5\n",
      "63/63 [==============================] - 0s 1ms/step - loss: 11.4989 - accuracy: 0.1010\n",
      "Epoch 4/5\n",
      "63/63 [==============================] - 0s 1ms/step - loss: 11.4966 - accuracy: 0.1090\n",
      "Epoch 5/5\n",
      "63/63 [==============================] - 0s 1ms/step - loss: 11.4962 - accuracy: 0.1010\n"
     ]
    },
    {
     "data": {
      "text/plain": [
       "<keras.callbacks.History at 0x247d859db70>"
      ]
     },
     "execution_count": 12,
     "metadata": {},
     "output_type": "execute_result"
    }
   ],
   "source": [
    "#自定义层\n",
    "#在 init 方法中创建层并将它们设置为类实例的属性。在 call 方法中定义前向传播\n",
    "class MyLayer(layers.Layer):\n",
    "    #定义一个输出层节点\n",
    "    def __init__(self, output_dim, **kwargs):\n",
    "        self.output_dim = output_dim\n",
    "        #super().__init__的作用就是把覆盖父类的继承回子类\n",
    "        #就是重写的同时，保留父类的方法\n",
    "        super(MyLayer, self).__init__(**kwargs)\n",
    "    #创建层的权重\n",
    "    #输入输入节点形状\n",
    "    def build(self, input_shape):\n",
    "        #\n",
    "        shape = tf.TensorShape((input_shape[1], self.output_dim))\n",
    "        #用self.add_weight来增加权重\n",
    "        #initializer='uniform'初始值设定项，trainable=True可训练的\n",
    "        self.kernel = self.add_weight(name='kernel1', shape=shape,\n",
    "                                   initializer='uniform', trainable=True)\n",
    "        #继承MyLayer中的bulid方法\n",
    "        super(MyLayer, self).build(input_shape)\n",
    "    #定义前向传播\n",
    "    def call(self, inputs):\n",
    "        return tf.matmul(inputs, self.kernel)\n",
    "    #基于给定输入形状计算层的输出形状\n",
    "    def compute_output_shape(self, input_shape):\n",
    "        shape = tf.TensorShape(input_shape).as_list()\n",
    "        shape[-1] = self.output_dim\n",
    "        return tf.TensorShape(shape)\n",
    "    #获取配置\n",
    "    def get_config(self):\n",
    "        #调用MyLayer中的get_config()方法给base_config\n",
    "        base_config = super(MyLayer, self).get_config()\n",
    "        base_config['output_dim'] = self.output_dim\n",
    "        return base_config\n",
    "\n",
    "    @classmethod\n",
    "    #classmethod 修饰符对应的函数不需要实例化，不需要 self 参数，但第一个参数需要是表示自身类的 cls 参数\n",
    "    #可以来调用类的属性，类的方法，实例化对象等\n",
    "    def from_config(cls, config):\n",
    "        return cls(**config)\n",
    "\n",
    "model = tf.keras.Sequential(\n",
    "[\n",
    "    MyLayer(10),\n",
    "    layers.Activation('softmax')\n",
    "])\n",
    "\n",
    "\n",
    "model.compile(optimizer=tf.keras.optimizers.RMSprop(0.001),\n",
    "             loss=tf.keras.losses.categorical_crossentropy,\n",
    "             metrics=['accuracy'])\n",
    "\n",
    "model.fit(train_x, train_y, batch_size=16, epochs=5)"
   ]
  },
  {
   "cell_type": "code",
   "execution_count": 13,
   "id": "1bdf1c20",
   "metadata": {},
   "outputs": [
    {
     "name": "stdout",
     "output_type": "stream",
     "text": [
      "Epoch 1/5\n",
      "63/63 [==============================] - 1s 10ms/step - loss: 11.4941 - accuracy: 0.1100 - val_loss: 11.6028 - val_accuracy: 0.0650\n",
      "Epoch 2/5\n",
      "63/63 [==============================] - 0s 2ms/step - loss: 11.4926 - accuracy: 0.1020 - val_loss: 11.6015 - val_accuracy: 0.0650\n",
      "Epoch 3/5\n",
      "63/63 [==============================] - 0s 2ms/step - loss: 11.4909 - accuracy: 0.1050 - val_loss: 11.5993 - val_accuracy: 0.0700\n",
      "Epoch 4/5\n",
      "63/63 [==============================] - 0s 2ms/step - loss: 11.4904 - accuracy: 0.1030 - val_loss: 11.6026 - val_accuracy: 0.0700\n",
      "Epoch 5/5\n",
      "63/63 [==============================] - 0s 2ms/step - loss: 11.4896 - accuracy: 0.1060 - val_loss: 11.6029 - val_accuracy: 0.0850\n"
     ]
    },
    {
     "data": {
      "text/plain": [
       "<keras.callbacks.History at 0x247d8677c50>"
      ]
     },
     "execution_count": 13,
     "metadata": {},
     "output_type": "execute_result"
    }
   ],
   "source": [
    "#回调\n",
    "#min_delta：增大或减小的阈值，只有大于这个部分才算作improvement。这个值的大小取决于monitor，也反映了容忍程度\n",
    "#patience：能够容忍多少个epoch内都没有improvement\n",
    "#monitor反映了容忍程度。本处取为0.0001，即val_loss减小幅度大于0.0001才算有提升，loss不变或增大都算没提升\n",
    "#log_dir：保存TensorBoard要解析的日志文件的目录路径\n",
    "callbacks = [\n",
    "    tf.keras.callbacks.EarlyStopping(patience=2, monitor='val_loss'),\n",
    "    tf.keras.callbacks.TensorBoard(log_dir='./logs')\n",
    "]\n",
    "model.fit(train_x, train_y, batch_size=16, epochs=5,\n",
    "         callbacks=callbacks, validation_data=(val_x, val_y))"
   ]
  },
  {
   "cell_type": "code",
   "execution_count": 22,
   "id": "b48903f2",
   "metadata": {},
   "outputs": [],
   "source": [
    "#权重保存\n",
    "model = tf.keras.Sequential([\n",
    "layers.Dense(64, activation='relu'),\n",
    "layers.Dense(10, activation='softmax')])\n",
    "\n",
    "model.compile(optimizer=tf.keras.optimizers.Adam(0.001),\n",
    "              loss='categorical_crossentropy',\n",
    "              metrics=['accuracy'])\n",
    "#权重保存\n",
    "#model.save_weights('./weights/model')\n",
    "#model.load_weights('./weights/model')\n",
    "#model.save_weights('./model.h5')\n",
    "#model.load_weights('./model.h5')"
   ]
  },
  {
   "cell_type": "code",
   "execution_count": 27,
   "id": "fb0230cf",
   "metadata": {},
   "outputs": [
    {
     "name": "stdout",
     "output_type": "stream",
     "text": [
      "{'backend': 'tensorflow',\n",
      " 'class_name': 'Sequential',\n",
      " 'config': {'layers': [{'class_name': 'Dense',\n",
      "                        'config': {'activation': 'relu',\n",
      "                                   'activity_regularizer': None,\n",
      "                                   'bias_constraint': None,\n",
      "                                   'bias_initializer': {'class_name': 'Zeros',\n",
      "                                                        'config': {}},\n",
      "                                   'bias_regularizer': None,\n",
      "                                   'dtype': 'float32',\n",
      "                                   'kernel_constraint': None,\n",
      "                                   'kernel_initializer': {'class_name': 'GlorotUniform',\n",
      "                                                          'config': {'seed': None}},\n",
      "                                   'kernel_regularizer': None,\n",
      "                                   'name': 'dense_23',\n",
      "                                   'trainable': True,\n",
      "                                   'units': 64,\n",
      "                                   'use_bias': True}},\n",
      "                       {'class_name': 'Dense',\n",
      "                        'config': {'activation': 'softmax',\n",
      "                                   'activity_regularizer': None,\n",
      "                                   'bias_constraint': None,\n",
      "                                   'bias_initializer': {'class_name': 'Zeros',\n",
      "                                                        'config': {}},\n",
      "                                   'bias_regularizer': None,\n",
      "                                   'dtype': 'float32',\n",
      "                                   'kernel_constraint': None,\n",
      "                                   'kernel_initializer': {'class_name': 'GlorotUniform',\n",
      "                                                          'config': {'seed': None}},\n",
      "                                   'kernel_regularizer': None,\n",
      "                                   'name': 'dense_24',\n",
      "                                   'trainable': True,\n",
      "                                   'units': 10,\n",
      "                                   'use_bias': True}}],\n",
      "            'name': 'sequential_6'},\n",
      " 'keras_version': '2.6.0'}\n",
      "{\"class_name\": \"Sequential\", \"config\": {\"name\": \"sequential_6\", \"layers\": [{\"class_name\": \"Dense\", \"config\": {\"name\": \"dense_23\", \"trainable\": true, \"dtype\": \"float32\", \"units\": 64, \"activation\": \"relu\", \"use_bias\": true, \"kernel_initializer\": {\"class_name\": \"GlorotUniform\", \"config\": {\"seed\": null}}, \"bias_initializer\": {\"class_name\": \"Zeros\", \"config\": {}}, \"kernel_regularizer\": null, \"bias_regularizer\": null, \"activity_regularizer\": null, \"kernel_constraint\": null, \"bias_constraint\": null}}, {\"class_name\": \"Dense\", \"config\": {\"name\": \"dense_24\", \"trainable\": true, \"dtype\": \"float32\", \"units\": 10, \"activation\": \"softmax\", \"use_bias\": true, \"kernel_initializer\": {\"class_name\": \"GlorotUniform\", \"config\": {\"seed\": null}}, \"bias_initializer\": {\"class_name\": \"Zeros\", \"config\": {}}, \"kernel_regularizer\": null, \"bias_regularizer\": null, \"activity_regularizer\": null, \"kernel_constraint\": null, \"bias_constraint\": null}}]}, \"keras_version\": \"2.6.0\", \"backend\": \"tensorflow\"}\n"
     ]
    }
   ],
   "source": [
    "# 保存网络结构\n",
    "# 序列化成json\n",
    "import json\n",
    "import pprint\n",
    "json_str = model.to_json()\n",
    "pprint.pprint(json.loads(json_str))\n",
    "fresh_model = tf.keras.models.model_from_json(json_str)\n",
    "# 保持为yaml格式  #需要提前安装pyyaml\n",
    "# 用不了yaml格式，只能改写为json格式\n",
    "yaml_str = model.to_json()\n",
    "print(yaml_str)\n",
    "fresh_model = tf.keras.models.model_from_json(yaml_str)"
   ]
  },
  {
   "cell_type": "code",
   "execution_count": 16,
   "id": "ba97fed1",
   "metadata": {},
   "outputs": [
    {
     "name": "stdout",
     "output_type": "stream",
     "text": [
      "Epoch 1/5\n",
      "32/32 [==============================] - 0s 2ms/step - loss: 11.4873 - accuracy: 0.0890\n",
      "Epoch 2/5\n",
      "32/32 [==============================] - 0s 2ms/step - loss: 11.4887 - accuracy: 0.1030\n",
      "Epoch 3/5\n",
      "32/32 [==============================] - 0s 2ms/step - loss: 11.5276 - accuracy: 0.0950\n",
      "Epoch 4/5\n",
      "32/32 [==============================] - 0s 1ms/step - loss: 11.5590 - accuracy: 0.0880\n",
      "Epoch 5/5\n",
      "32/32 [==============================] - 0s 1ms/step - loss: 11.5677 - accuracy: 0.0880\n"
     ]
    }
   ],
   "source": [
    "# 保存整个模型\n",
    "model = tf.keras.Sequential([\n",
    "  layers.Dense(10, activation='softmax', input_shape=(72,)),\n",
    "  layers.Dense(10, activation='softmax')\n",
    "])\n",
    "model.compile(optimizer='rmsprop',\n",
    "              loss='categorical_crossentropy',\n",
    "              metrics=['accuracy'])\n",
    "model.fit(train_x, train_y, batch_size=32, epochs=5)\n",
    "model.save('all_model.h5')\n",
    "model = tf.keras.models.load_model('all_model.h5')"
   ]
  },
  {
   "cell_type": "code",
   "execution_count": 17,
   "id": "92198c66",
   "metadata": {},
   "outputs": [
    {
     "name": "stdout",
     "output_type": "stream",
     "text": [
      "INFO:tensorflow:Using default config.\n",
      "WARNING:tensorflow:Using temporary folder as model directory: C:\\Users\\huang\\AppData\\Local\\Temp\\tmp_nqp1du1\n",
      "INFO:tensorflow:Using the Keras model provided.\n",
      "INFO:tensorflow:Using config: {'_model_dir': 'C:\\\\Users\\\\huang\\\\AppData\\\\Local\\\\Temp\\\\tmp_nqp1du1', '_tf_random_seed': None, '_save_summary_steps': 100, '_save_checkpoints_steps': None, '_save_checkpoints_secs': 600, '_session_config': allow_soft_placement: true\n",
      "graph_options {\n",
      "  rewrite_options {\n",
      "    meta_optimizer_iterations: ONE\n",
      "  }\n",
      "}\n",
      ", '_keep_checkpoint_max': 5, '_keep_checkpoint_every_n_hours': 10000, '_log_step_count_steps': 100, '_train_distribute': None, '_device_fn': None, '_protocol': None, '_eval_distribute': None, '_experimental_distribute': None, '_experimental_max_worker_delay_secs': None, '_session_creation_timeout_secs': 7200, '_checkpoint_save_graph_def': True, '_service': None, '_cluster_spec': ClusterSpec({}), '_task_type': 'worker', '_task_id': 0, '_global_id_in_cluster': 0, '_master': '', '_evaluation_master': '', '_is_chief': True, '_num_ps_replicas': 0, '_num_worker_replicas': 1}\n"
     ]
    }
   ],
   "source": [
    "# 将keras用于Estimator\n",
    "model = tf.keras.Sequential([layers.Dense(10,activation='softmax'),\n",
    "                          layers.Dense(10,activation='softmax')])\n",
    "\n",
    "model.compile(optimizer=tf.keras.optimizers.RMSprop(0.001),\n",
    "              loss='categorical_crossentropy',\n",
    "              metrics=['accuracy'])\n",
    "#Estimator允许开发者自定义任意的模型结构、损失函数、优化方法\n",
    "#以及如何对这个模型进行训练、评估和导出等内容\n",
    "#同时屏蔽了与底层硬件设备、分布式网络数据传输等相关的细节\n",
    "estimator = tf.keras.estimator.model_to_estimator(model)"
   ]
  },
  {
   "cell_type": "code",
   "execution_count": null,
   "id": "5cc07d5b",
   "metadata": {},
   "outputs": [],
   "source": []
  }
 ],
 "metadata": {
  "kernelspec": {
   "display_name": "Python 3",
   "language": "python",
   "name": "python3"
  },
  "language_info": {
   "codemirror_mode": {
    "name": "ipython",
    "version": 3
   },
   "file_extension": ".py",
   "mimetype": "text/x-python",
   "name": "python",
   "nbconvert_exporter": "python",
   "pygments_lexer": "ipython3",
   "version": "3.6.13"
  }
 },
 "nbformat": 4,
 "nbformat_minor": 5
}
