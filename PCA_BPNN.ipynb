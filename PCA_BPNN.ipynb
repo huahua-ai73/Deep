{
 "cells": [
  {
   "cell_type": "code",
   "execution_count": 184,
   "id": "afe8f399",
   "metadata": {},
   "outputs": [
    {
     "name": "stdout",
     "output_type": "stream",
     "text": [
      "(530, 1050) (530,)\n"
     ]
    }
   ],
   "source": [
    "from sklearn.decomposition import PCA\n",
    "import numpy as np\n",
    "import pandas as pd\n",
    "# 对数据进行标准化\n",
    "pca = PCA(n_components=3)  # n_components为整数：降为指定维数；n_components为小数：保留新%x的原始信息。\n",
    "# 进行降维\n",
    "a =  pd.read_excel(r'xh.xlsx')\n",
    "data = np.array(a)\n",
    "x,y = data[:,:1050],data[:,1050]\n",
    "x = (x - x.mean())/np.std(x)\n",
    "y = (y - y.mean())/np.std(y)\n",
    "print(x.shape,y.shape)\n",
    "X = pd.DataFrame(x)\n",
    "Y = pd.DataFrame(y)\n",
    "#使用pca降维，保留三位有效数值\n",
    "new_DF = pd.DataFrame(pca.fit_transform(X))"
   ]
  },
  {
   "cell_type": "code",
   "execution_count": 185,
   "id": "f434e2a7",
   "metadata": {},
   "outputs": [],
   "source": [
    "#划分数据集\n",
    "from sklearn.model_selection import train_test_split\n",
    "X_train,X_test,Y_train,Y_test = train_test_split(new_DF , Y , test_size=0.2 , random_state=0)"
   ]
  },
  {
   "cell_type": "code",
   "execution_count": 186,
   "id": "ac98e1b8",
   "metadata": {},
   "outputs": [
    {
     "data": {
      "text/html": [
       "<div>\n",
       "<style scoped>\n",
       "    .dataframe tbody tr th:only-of-type {\n",
       "        vertical-align: middle;\n",
       "    }\n",
       "\n",
       "    .dataframe tbody tr th {\n",
       "        vertical-align: top;\n",
       "    }\n",
       "\n",
       "    .dataframe thead th {\n",
       "        text-align: right;\n",
       "    }\n",
       "</style>\n",
       "<table border=\"1\" class=\"dataframe\">\n",
       "  <thead>\n",
       "    <tr style=\"text-align: right;\">\n",
       "      <th></th>\n",
       "      <th>0</th>\n",
       "      <th>1</th>\n",
       "      <th>2</th>\n",
       "    </tr>\n",
       "  </thead>\n",
       "  <tbody>\n",
       "    <tr>\n",
       "      <th>446</th>\n",
       "      <td>19.211936</td>\n",
       "      <td>0.032365</td>\n",
       "      <td>0.037124</td>\n",
       "    </tr>\n",
       "    <tr>\n",
       "      <th>473</th>\n",
       "      <td>22.069877</td>\n",
       "      <td>-0.013218</td>\n",
       "      <td>0.015619</td>\n",
       "    </tr>\n",
       "    <tr>\n",
       "      <th>502</th>\n",
       "      <td>25.139570</td>\n",
       "      <td>0.006904</td>\n",
       "      <td>0.010820</td>\n",
       "    </tr>\n",
       "    <tr>\n",
       "      <th>526</th>\n",
       "      <td>27.680004</td>\n",
       "      <td>0.044191</td>\n",
       "      <td>0.015415</td>\n",
       "    </tr>\n",
       "    <tr>\n",
       "      <th>412</th>\n",
       "      <td>15.612992</td>\n",
       "      <td>-0.024251</td>\n",
       "      <td>-0.027615</td>\n",
       "    </tr>\n",
       "  </tbody>\n",
       "</table>\n",
       "</div>"
      ],
      "text/plain": [
       "             0         1         2\n",
       "446  19.211936  0.032365  0.037124\n",
       "473  22.069877 -0.013218  0.015619\n",
       "502  25.139570  0.006904  0.010820\n",
       "526  27.680004  0.044191  0.015415\n",
       "412  15.612992 -0.024251 -0.027615"
      ]
     },
     "execution_count": 186,
     "metadata": {},
     "output_type": "execute_result"
    }
   ],
   "source": [
    "X_train.head()"
   ]
  },
  {
   "cell_type": "code",
   "execution_count": 187,
   "id": "1d9e1e02",
   "metadata": {},
   "outputs": [
    {
     "data": {
      "text/html": [
       "<table class=\"simpletable\">\n",
       "<caption>OLS Regression Results</caption>\n",
       "<tr>\n",
       "  <th>Dep. Variable:</th>            <td>0</td>        <th>  R-squared (uncentered):</th>      <td>   0.963</td> \n",
       "</tr>\n",
       "<tr>\n",
       "  <th>Model:</th>                   <td>OLS</td>       <th>  Adj. R-squared (uncentered):</th> <td>   0.963</td> \n",
       "</tr>\n",
       "<tr>\n",
       "  <th>Method:</th>             <td>Least Squares</td>  <th>  F-statistic:       </th>          <td>   3665.</td> \n",
       "</tr>\n",
       "<tr>\n",
       "  <th>Date:</th>             <td>Sat, 27 Nov 2021</td> <th>  Prob (F-statistic):</th>          <td>3.33e-301</td>\n",
       "</tr>\n",
       "<tr>\n",
       "  <th>Time:</th>                 <td>18:43:59</td>     <th>  Log-Likelihood:    </th>          <td>  101.88</td> \n",
       "</tr>\n",
       "<tr>\n",
       "  <th>No. Observations:</th>      <td>   424</td>      <th>  AIC:               </th>          <td>  -197.8</td> \n",
       "</tr>\n",
       "<tr>\n",
       "  <th>Df Residuals:</th>          <td>   421</td>      <th>  BIC:               </th>          <td>  -185.6</td> \n",
       "</tr>\n",
       "<tr>\n",
       "  <th>Df Model:</th>              <td>     3</td>      <th>                     </th>              <td> </td>    \n",
       "</tr>\n",
       "<tr>\n",
       "  <th>Covariance Type:</th>      <td>nonrobust</td>    <th>                     </th>              <td> </td>    \n",
       "</tr>\n",
       "</table>\n",
       "<table class=\"simpletable\">\n",
       "<tr>\n",
       "  <td></td>     <th>coef</th>     <th>std err</th>      <th>t</th>      <th>P>|t|</th>  <th>[0.025</th>    <th>0.975]</th>  \n",
       "</tr>\n",
       "<tr>\n",
       "  <th>0</th> <td>    0.0059</td> <td>    0.001</td> <td>   10.439</td> <td> 0.000</td> <td>    0.005</td> <td>    0.007</td>\n",
       "</tr>\n",
       "<tr>\n",
       "  <th>1</th> <td>   -0.1727</td> <td>    0.121</td> <td>   -1.422</td> <td> 0.156</td> <td>   -0.411</td> <td>    0.066</td>\n",
       "</tr>\n",
       "<tr>\n",
       "  <th>2</th> <td>   28.0488</td> <td>    0.269</td> <td>  104.162</td> <td> 0.000</td> <td>   27.519</td> <td>   28.578</td>\n",
       "</tr>\n",
       "</table>\n",
       "<table class=\"simpletable\">\n",
       "<tr>\n",
       "  <th>Omnibus:</th>       <td>37.386</td> <th>  Durbin-Watson:     </th> <td>   2.027</td>\n",
       "</tr>\n",
       "<tr>\n",
       "  <th>Prob(Omnibus):</th> <td> 0.000</td> <th>  Jarque-Bera (JB):  </th> <td>  58.567</td>\n",
       "</tr>\n",
       "<tr>\n",
       "  <th>Skew:</th>          <td>-0.595</td> <th>  Prob(JB):          </th> <td>1.92e-13</td>\n",
       "</tr>\n",
       "<tr>\n",
       "  <th>Kurtosis:</th>      <td> 4.377</td> <th>  Cond. No.          </th> <td>    474.</td>\n",
       "</tr>\n",
       "</table><br/><br/>Notes:<br/>[1] R² is computed without centering (uncentered) since the model does not contain a constant.<br/>[2] Standard Errors assume that the covariance matrix of the errors is correctly specified."
      ],
      "text/plain": [
       "<class 'statsmodels.iolib.summary.Summary'>\n",
       "\"\"\"\n",
       "                                 OLS Regression Results                                \n",
       "=======================================================================================\n",
       "Dep. Variable:                      0   R-squared (uncentered):                   0.963\n",
       "Model:                            OLS   Adj. R-squared (uncentered):              0.963\n",
       "Method:                 Least Squares   F-statistic:                              3665.\n",
       "Date:                Sat, 27 Nov 2021   Prob (F-statistic):                   3.33e-301\n",
       "Time:                        18:43:59   Log-Likelihood:                          101.88\n",
       "No. Observations:                 424   AIC:                                     -197.8\n",
       "Df Residuals:                     421   BIC:                                     -185.6\n",
       "Df Model:                           3                                                  \n",
       "Covariance Type:            nonrobust                                                  \n",
       "==============================================================================\n",
       "                 coef    std err          t      P>|t|      [0.025      0.975]\n",
       "------------------------------------------------------------------------------\n",
       "0              0.0059      0.001     10.439      0.000       0.005       0.007\n",
       "1             -0.1727      0.121     -1.422      0.156      -0.411       0.066\n",
       "2             28.0488      0.269    104.162      0.000      27.519      28.578\n",
       "==============================================================================\n",
       "Omnibus:                       37.386   Durbin-Watson:                   2.027\n",
       "Prob(Omnibus):                  0.000   Jarque-Bera (JB):               58.567\n",
       "Skew:                          -0.595   Prob(JB):                     1.92e-13\n",
       "Kurtosis:                       4.377   Cond. No.                         474.\n",
       "==============================================================================\n",
       "\n",
       "Notes:\n",
       "[1] R² is computed without centering (uncentered) since the model does not contain a constant.\n",
       "[2] Standard Errors assume that the covariance matrix of the errors is correctly specified.\n",
       "\"\"\""
      ]
     },
     "execution_count": 187,
     "metadata": {},
     "output_type": "execute_result"
    }
   ],
   "source": [
    "#PCR \n",
    "# 对数据进行标准化\n",
    "# 使用返回后的数据用线性回归模型进行建模\n",
    "import statsmodels.api as sm\n",
    "#将得到的PCA降维后的数据用最小二乘法建模在进行数据拟合\n",
    "ols = sm.OLS(Y_train, X_train).fit()\n",
    "#将数据总结\n",
    "ols.summary()"
   ]
  },
  {
   "cell_type": "code",
   "execution_count": 188,
   "id": "cfad5d89",
   "metadata": {},
   "outputs": [
    {
     "name": "stdout",
     "output_type": "stream",
     "text": [
      "0.9631185057266993\n"
     ]
    }
   ],
   "source": [
    "# 使用LinearRegression进行拟合，其实这两种拟合的都差不多\n",
    "from sklearn.linear_model import LinearRegression\n",
    "#通过线性回归算出关于已经进行过PCA分析的回归直线\n",
    "lr = LinearRegression()\n",
    "lr.fit(X_train,Y_train)   # 模型训练\n",
    "a = lr.score(X_train, Y_train) # 获取模型的得分\n",
    "print(a)"
   ]
  },
  {
   "cell_type": "code",
   "execution_count": 189,
   "id": "e39cfff8",
   "metadata": {},
   "outputs": [],
   "source": [
    "y_pred = lr.predict(X_test)"
   ]
  },
  {
   "cell_type": "code",
   "execution_count": 190,
   "id": "3b4832bb",
   "metadata": {},
   "outputs": [
    {
     "data": {
      "text/plain": [
       "(106, 1)"
      ]
     },
     "execution_count": 190,
     "metadata": {},
     "output_type": "execute_result"
    }
   ],
   "source": [
    "y_pred.shape"
   ]
  },
  {
   "cell_type": "code",
   "execution_count": 191,
   "id": "01e2b967",
   "metadata": {},
   "outputs": [
    {
     "data": {
      "text/plain": [
       "(106, 1)"
      ]
     },
     "execution_count": 191,
     "metadata": {},
     "output_type": "execute_result"
    }
   ],
   "source": [
    "Y_test.shape"
   ]
  },
  {
   "cell_type": "code",
   "execution_count": 192,
   "id": "a3c6f9c5",
   "metadata": {},
   "outputs": [
    {
     "name": "stdout",
     "output_type": "stream",
     "text": [
      "0.9549126493534972\n",
      "[[0.96909563]] [-0.00446976]\n"
     ]
    }
   ],
   "source": [
    "from sklearn.linear_model import LinearRegression\n",
    "#通过线性回归算出关于已经进行过PCA分析的回归直线\n",
    "lr = LinearRegression()\n",
    "#用线性回归得出的y_pred和Y_test进行线性回归\n",
    "lr.fit(y_pred,Y_test)   # 模型训练\n",
    "c = lr.score(y_pred, Y_test) # 获取模型的得分\n",
    "print(c)\n",
    "#得出的斜率和截距\n",
    "k = lr.coef_\n",
    "b = lr.intercept_\n",
    "print(k,b)"
   ]
  },
  {
   "cell_type": "code",
   "execution_count": 193,
   "id": "d69ba93d",
   "metadata": {},
   "outputs": [
    {
     "data": {
      "image/png": "[encoded data removed]",
      "text/plain": [
       "<Figure size 432x288 with 1 Axes>"
      ]
     },
     "metadata": {
      "needs_background": "light"
     },
     "output_type": "display_data"
    }
   ],
   "source": [
    "import matplotlib.pyplot as plt\n",
    "plt.scatter(y_pred,Y_test)\n",
    "#model = LinearRegression()\n",
    "from sklearn.linear_model import LinearRegression\n",
    "model = LinearRegression()\n",
    "Y_t = np.array(Y_test)\n",
    "Y_y = np.array(y_pred)\n",
    "pred = Y_y.reshape(-1,1)\n",
    "Y_ = Y_t.reshape(-1,1)\n",
    "model.fit(pred,Y_)\n",
    "x = np.linspace(-4,7,100)\n",
    "y = 0.96909563*x-0.00446976\n",
    "plt.xlim(-4,7)\n",
    "plt.ylim(-4,7)\n",
    "plt.plot(x,y)\n",
    "plt.show()"
   ]
  },
  {
   "cell_type": "code",
   "execution_count": 204,
   "id": "6c876034",
   "metadata": {},
   "outputs": [
    {
     "name": "stdout",
     "output_type": "stream",
     "text": [
      "****************************************************************************************************\n",
      "验证集 解释方差得分  平均绝对误差  决定系数  均方误差  均方根误差  相对分析误差\n",
      "结果     0.9547       0.1654    0.9547   0.0494   0.2224        4.6975\n",
      "****************************************************************************************************\n"
     ]
    }
   ],
   "source": [
    "import numpy as np\n",
    "from sklearn.metrics import *\n",
    "\n",
    "def evaluating(y_true, y_pre, samplesets=\"验证集\"):\n",
    "    \"\"\"\n",
    "    :param y_true: (n_samples, )\n",
    "    :param y_pre: (n_samples, )\n",
    "    :samplesets: string\n",
    "    :return: None\n",
    "    \"\"\"\n",
    "    evs_ = explained_variance_score(y_true, y_pre)\n",
    "    mae_ = mean_absolute_error(y_true, y_pre)\n",
    "    mse_ = mean_squared_error(y_true, y_pre)\n",
    "    r2_ = r2_score(y_true, y_pre)\n",
    "    rmse_ = np.sqrt(mse_)\n",
    "    rpd_ = np.std(y_true)/rmse_\n",
    "\n",
    "    print(\"*\"*100)\n",
    "    print(samplesets + ' 解释方差得分  平均绝对误差  决定系数  均方误差  均方根误差  相对分析误差')\n",
    "    print('结果     %6.4f       %6.4f    %6.4f   %6.4f   %6.4f        %6.4f' % (evs_, mae_, r2_, mse_, rmse_, rpd_))\n",
    "    print(\"*\"*100)\n",
    "evaluating(pred,Y_)"
   ]
  },
  {
   "cell_type": "code",
   "execution_count": 194,
   "id": "fbdb1341",
   "metadata": {},
   "outputs": [
    {
     "data": {
      "text/html": [
       "<table class=\"simpletable\">\n",
       "<caption>OLS Regression Results</caption>\n",
       "<tr>\n",
       "  <th>Dep. Variable:</th>            <td>y</td>        <th>  R-squared (uncentered):</th>      <td>   0.955</td>\n",
       "</tr>\n",
       "<tr>\n",
       "  <th>Model:</th>                   <td>OLS</td>       <th>  Adj. R-squared (uncentered):</th> <td>   0.954</td>\n",
       "</tr>\n",
       "<tr>\n",
       "  <th>Method:</th>             <td>Least Squares</td>  <th>  F-statistic:       </th>          <td>   2223.</td>\n",
       "</tr>\n",
       "<tr>\n",
       "  <th>Date:</th>             <td>Sat, 27 Nov 2021</td> <th>  Prob (F-statistic):</th>          <td>1.77e-72</td>\n",
       "</tr>\n",
       "<tr>\n",
       "  <th>Time:</th>                 <td>18:44:00</td>     <th>  Log-Likelihood:    </th>          <td>  9.2066</td>\n",
       "</tr>\n",
       "<tr>\n",
       "  <th>No. Observations:</th>      <td>   106</td>      <th>  AIC:               </th>          <td>  -16.41</td>\n",
       "</tr>\n",
       "<tr>\n",
       "  <th>Df Residuals:</th>          <td>   105</td>      <th>  BIC:               </th>          <td>  -13.75</td>\n",
       "</tr>\n",
       "<tr>\n",
       "  <th>Df Model:</th>              <td>     1</td>      <th>                     </th>              <td> </td>   \n",
       "</tr>\n",
       "<tr>\n",
       "  <th>Covariance Type:</th>      <td>nonrobust</td>    <th>                     </th>              <td> </td>   \n",
       "</tr>\n",
       "</table>\n",
       "<table class=\"simpletable\">\n",
       "<tr>\n",
       "  <td></td>     <th>coef</th>     <th>std err</th>      <th>t</th>      <th>P>|t|</th>  <th>[0.025</th>    <th>0.975]</th>  \n",
       "</tr>\n",
       "<tr>\n",
       "  <th>0</th> <td>    0.9854</td> <td>    0.021</td> <td>   47.147</td> <td> 0.000</td> <td>    0.944</td> <td>    1.027</td>\n",
       "</tr>\n",
       "</table>\n",
       "<table class=\"simpletable\">\n",
       "<tr>\n",
       "  <th>Omnibus:</th>       <td>38.695</td> <th>  Durbin-Watson:     </th> <td>   2.235</td>\n",
       "</tr>\n",
       "<tr>\n",
       "  <th>Prob(Omnibus):</th> <td> 0.000</td> <th>  Jarque-Bera (JB):  </th> <td>  95.160</td>\n",
       "</tr>\n",
       "<tr>\n",
       "  <th>Skew:</th>          <td> 1.362</td> <th>  Prob(JB):          </th> <td>2.17e-21</td>\n",
       "</tr>\n",
       "<tr>\n",
       "  <th>Kurtosis:</th>      <td> 6.758</td> <th>  Cond. No.          </th> <td>    1.00</td>\n",
       "</tr>\n",
       "</table><br/><br/>Notes:<br/>[1] R² is computed without centering (uncentered) since the model does not contain a constant.<br/>[2] Standard Errors assume that the covariance matrix of the errors is correctly specified."
      ],
      "text/plain": [
       "<class 'statsmodels.iolib.summary.Summary'>\n",
       "\"\"\"\n",
       "                                 OLS Regression Results                                \n",
       "=======================================================================================\n",
       "Dep. Variable:                      y   R-squared (uncentered):                   0.955\n",
       "Model:                            OLS   Adj. R-squared (uncentered):              0.954\n",
       "Method:                 Least Squares   F-statistic:                              2223.\n",
       "Date:                Sat, 27 Nov 2021   Prob (F-statistic):                    1.77e-72\n",
       "Time:                        18:44:00   Log-Likelihood:                          9.2066\n",
       "No. Observations:                 106   AIC:                                     -16.41\n",
       "Df Residuals:                     105   BIC:                                     -13.75\n",
       "Df Model:                           1                                                  \n",
       "Covariance Type:            nonrobust                                                  \n",
       "==============================================================================\n",
       "                 coef    std err          t      P>|t|      [0.025      0.975]\n",
       "------------------------------------------------------------------------------\n",
       "0              0.9854      0.021     47.147      0.000       0.944       1.027\n",
       "==============================================================================\n",
       "Omnibus:                       38.695   Durbin-Watson:                   2.235\n",
       "Prob(Omnibus):                  0.000   Jarque-Bera (JB):               95.160\n",
       "Skew:                           1.362   Prob(JB):                     2.17e-21\n",
       "Kurtosis:                       6.758   Cond. No.                         1.00\n",
       "==============================================================================\n",
       "\n",
       "Notes:\n",
       "[1] R² is computed without centering (uncentered) since the model does not contain a constant.\n",
       "[2] Standard Errors assume that the covariance matrix of the errors is correctly specified.\n",
       "\"\"\""
      ]
     },
     "execution_count": 194,
     "metadata": {},
     "output_type": "execute_result"
    }
   ],
   "source": [
    "#将y_pred, Y_test进行最小二乘法建模\n",
    "#说明预测效果\n",
    "olsr = sm.OLS(y_pred, Y_test).fit()\n",
    "olsr.summary()"
   ]
  },
  {
   "cell_type": "code",
   "execution_count": 195,
   "id": "ca6309bb",
   "metadata": {},
   "outputs": [
    {
     "name": "stdout",
     "output_type": "stream",
     "text": [
      "(424, 3)\n"
     ]
    }
   ],
   "source": [
    "print(X_train.shape)"
   ]
  },
  {
   "cell_type": "code",
   "execution_count": 196,
   "id": "581d7679",
   "metadata": {},
   "outputs": [
    {
     "data": {
      "text/html": [
       "<div>\n",
       "<style scoped>\n",
       "    .dataframe tbody tr th:only-of-type {\n",
       "        vertical-align: middle;\n",
       "    }\n",
       "\n",
       "    .dataframe tbody tr th {\n",
       "        vertical-align: top;\n",
       "    }\n",
       "\n",
       "    .dataframe thead th {\n",
       "        text-align: right;\n",
       "    }\n",
       "</style>\n",
       "<table border=\"1\" class=\"dataframe\">\n",
       "  <thead>\n",
       "    <tr style=\"text-align: right;\">\n",
       "      <th></th>\n",
       "      <th>0</th>\n",
       "      <th>1</th>\n",
       "      <th>2</th>\n",
       "    </tr>\n",
       "  </thead>\n",
       "  <tbody>\n",
       "    <tr>\n",
       "      <th>446</th>\n",
       "      <td>19.211936</td>\n",
       "      <td>0.032365</td>\n",
       "      <td>0.037124</td>\n",
       "    </tr>\n",
       "    <tr>\n",
       "      <th>473</th>\n",
       "      <td>22.069877</td>\n",
       "      <td>-0.013218</td>\n",
       "      <td>0.015619</td>\n",
       "    </tr>\n",
       "    <tr>\n",
       "      <th>502</th>\n",
       "      <td>25.139570</td>\n",
       "      <td>0.006904</td>\n",
       "      <td>0.010820</td>\n",
       "    </tr>\n",
       "    <tr>\n",
       "      <th>526</th>\n",
       "      <td>27.680004</td>\n",
       "      <td>0.044191</td>\n",
       "      <td>0.015415</td>\n",
       "    </tr>\n",
       "    <tr>\n",
       "      <th>412</th>\n",
       "      <td>15.612992</td>\n",
       "      <td>-0.024251</td>\n",
       "      <td>-0.027615</td>\n",
       "    </tr>\n",
       "  </tbody>\n",
       "</table>\n",
       "</div>"
      ],
      "text/plain": [
       "             0         1         2\n",
       "446  19.211936  0.032365  0.037124\n",
       "473  22.069877 -0.013218  0.015619\n",
       "502  25.139570  0.006904  0.010820\n",
       "526  27.680004  0.044191  0.015415\n",
       "412  15.612992 -0.024251 -0.027615"
      ]
     },
     "execution_count": 196,
     "metadata": {},
     "output_type": "execute_result"
    }
   ],
   "source": [
    "X_train.head()"
   ]
  },
  {
   "cell_type": "markdown",
   "id": "c1d33662",
   "metadata": {},
   "source": [
    "# BP神经网络"
   ]
  },
  {
   "cell_type": "code",
   "execution_count": 197,
   "id": "2d1a8e22",
   "metadata": {},
   "outputs": [
    {
     "name": "stderr",
     "output_type": "stream",
     "text": [
      "C:\\Users\\huang\\AppData\\Roaming\\Python\\Python36\\site-packages\\sklearn\\utils\\validation.py:63: DataConversionWarning: A column-vector y was passed when a 1d array was expected. Please change the shape of y to (n_samples, ), for example using ravel().\n",
      "  return f(*args, **kwargs)\n"
     ]
    }
   ],
   "source": [
    "from sklearn.neural_network import MLPRegressor\n",
    "# BP神经网络回归模型\n",
    "model = MLPRegressor(hidden_layer_sizes=(2,), random_state=1,learning_rate_init=0.1) \n",
    "# 训练模型\n",
    "model.fit(X_train,Y_train)\n",
    "# 模型预测\n",
    "pre = model.predict(X_test)  "
   ]
  },
  {
   "cell_type": "code",
   "execution_count": 198,
   "id": "bbfa0b7b",
   "metadata": {},
   "outputs": [
    {
     "name": "stdout",
     "output_type": "stream",
     "text": [
      "(106,)\n"
     ]
    }
   ],
   "source": [
    "print(pre.shape)"
   ]
  },
  {
   "cell_type": "code",
   "execution_count": 199,
   "id": "91299806",
   "metadata": {},
   "outputs": [
    {
     "data": {
      "text/plain": [
       "(106, 1)"
      ]
     },
     "execution_count": 199,
     "metadata": {},
     "output_type": "execute_result"
    }
   ],
   "source": [
    "Y_A = np.array(Y_test)\n",
    "Y_A.shape"
   ]
  },
  {
   "cell_type": "code",
   "execution_count": 200,
   "id": "ea937d04",
   "metadata": {},
   "outputs": [
    {
     "name": "stdout",
     "output_type": "stream",
     "text": [
      "[[-3.97841996e-02]\n",
      " [ 1.20257251e+00]\n",
      " [ 1.23486987e+00]\n",
      " [-1.00718941e+00]\n",
      " [ 6.27616895e-01]\n",
      " [-1.33428640e+00]\n",
      " [ 7.50910363e-01]\n",
      " [ 1.64684004e+00]\n",
      " [ 7.06913071e-01]\n",
      " [ 9.00378271e-01]\n",
      " [ 1.30193732e+00]\n",
      " [ 2.99169005e-01]\n",
      " [ 6.28026454e-02]\n",
      " [-1.74244515e-01]\n",
      " [ 2.40476690e-01]\n",
      " [-7.41921126e-01]\n",
      " [ 2.00148871e-01]\n",
      " [ 5.11219212e-01]\n",
      " [ 4.21559020e-01]\n",
      " [ 1.16216120e+00]\n",
      " [ 8.78997269e-01]\n",
      " [-3.28925473e-01]\n",
      " [-5.78826497e-01]\n",
      " [ 2.55898049e+00]\n",
      " [ 3.44305247e-01]\n",
      " [ 8.13396324e-01]\n",
      " [ 8.88975926e-01]\n",
      " [-5.86597903e-01]\n",
      " [ 1.53458348e-01]\n",
      " [-8.67858585e-01]\n",
      " [-2.08319521e+00]\n",
      " [ 2.09298085e+00]\n",
      " [ 1.44978309e-01]\n",
      " [-4.72152705e-01]\n",
      " [-4.84807466e-01]\n",
      " [ 6.30014685e-01]\n",
      " [ 9.63380184e-01]\n",
      " [ 1.98572902e+00]\n",
      " [-7.53982862e-01]\n",
      " [-8.41200306e-01]\n",
      " [-4.32816116e-01]\n",
      " [ 3.75330928e-01]\n",
      " [ 3.60635905e-01]\n",
      " [-1.24166537e+00]\n",
      " [ 2.33981981e-03]\n",
      " [ 2.04662859e+00]\n",
      " [-5.47366217e-01]\n",
      " [ 1.72407306e-01]\n",
      " [-1.52733413e+00]\n",
      " [-5.15473478e-01]\n",
      " [ 8.64075313e-01]\n",
      " [ 2.72759069e-01]\n",
      " [-1.28694077e+00]\n",
      " [-1.19697015e+00]\n",
      " [-1.59159916e+00]\n",
      " [ 1.53031605e+00]\n",
      " [-5.62839871e-02]\n",
      " [-8.75251055e-01]\n",
      " [-3.07030660e-01]\n",
      " [-5.38984659e-01]\n",
      " [ 4.67504516e-01]\n",
      " [ 2.07385707e-02]\n",
      " [-3.81118066e-01]\n",
      " [-9.96553501e-01]\n",
      " [ 2.38695475e-01]\n",
      " [-1.87665991e+00]\n",
      " [-1.61207243e+00]\n",
      " [-1.09331500e+00]\n",
      " [-1.02617904e+00]\n",
      " [ 3.54659778e+00]\n",
      " [ 3.01181435e-01]\n",
      " [-1.01338513e+00]\n",
      " [-1.27039388e+00]\n",
      " [-5.58074915e-01]\n",
      " [-1.26597510e+00]\n",
      " [-5.28395850e-01]\n",
      " [-1.04588737e-01]\n",
      " [-9.24135333e-02]\n",
      " [-1.00618319e+00]\n",
      " [ 1.98303793e+00]\n",
      " [-6.68750017e-01]\n",
      " [ 3.67187008e-01]\n",
      " [ 2.60502512e-01]\n",
      " [-9.39700205e-01]\n",
      " [ 1.30882734e-01]\n",
      " [ 4.42212121e-01]\n",
      " [-1.50547078e-01]\n",
      " [-2.00958457e-01]\n",
      " [-3.97729180e-01]\n",
      " [ 1.41257175e+00]\n",
      " [-1.06257192e+00]\n",
      " [ 5.30140339e-01]\n",
      " [-1.60430102e+00]\n",
      " [ 4.73897194e-01]\n",
      " [ 1.05692822e+00]\n",
      " [ 3.97411998e-01]\n",
      " [-4.41837798e-01]\n",
      " [-1.27883688e-01]\n",
      " [-1.60817174e+00]\n",
      " [-5.26723820e-01]\n",
      " [ 1.71743353e+00]\n",
      " [-2.26702578e-01]\n",
      " [ 2.98075014e-01]\n",
      " [-1.77592921e+00]\n",
      " [ 1.54199243e+00]\n",
      " [-2.94714158e-01]]\n"
     ]
    }
   ],
   "source": [
    "print(Y_A)\n",
    "y = Y_A.reshape(1,106)"
   ]
  },
  {
   "cell_type": "code",
   "execution_count": 201,
   "id": "6d14c448",
   "metadata": {},
   "outputs": [
    {
     "data": {
      "text/plain": [
       "1.1671496933068528"
      ]
     },
     "execution_count": 201,
     "metadata": {},
     "output_type": "execute_result"
    }
   ],
   "source": [
    "np.abs(Y_A-pre).mean()  "
   ]
  },
  {
   "cell_type": "code",
   "execution_count": 202,
   "id": "4860be7b",
   "metadata": {},
   "outputs": [
    {
     "name": "stdout",
     "output_type": "stream",
     "text": [
      "[[0.96383982]] [-0.00597243]\n"
     ]
    },
    {
     "data": {
      "image/png": "[encoded data removed]",
      "text/plain": [
       "<Figure size 432x288 with 1 Axes>"
      ]
     },
     "metadata": {
      "needs_background": "light"
     },
     "output_type": "display_data"
    }
   ],
   "source": [
    "import matplotlib.pyplot as plt\n",
    "plt.scatter(pre,Y_A)\n",
    "#model = LinearRegression()\n",
    "from sklearn.linear_model import LinearRegression\n",
    "model = LinearRegression()\n",
    "pre1 = pre.reshape(-1,1)\n",
    "Y_A1 = Y_A.reshape(-1,1)\n",
    "model.fit(pre1,Y_A1)\n",
    "k = model.coef_\n",
    "b = model.intercept_\n",
    "print(k,b)\n",
    "x = np.linspace(-4,7,100)\n",
    "y = 0.96383982*x-0.00597243\n",
    "plt.xlim(-4,7)\n",
    "plt.ylim(-4,7)\n",
    "plt.plot(x,y)\n",
    "plt.show()"
   ]
  },
  {
   "cell_type": "code",
   "execution_count": 203,
   "id": "c9af08a7",
   "metadata": {},
   "outputs": [
    {
     "name": "stdout",
     "output_type": "stream",
     "text": [
      "****************************************************************************************************\n",
      "验证集 解释方差得分  平均绝对误差  决定系数  均方误差  均方根误差  相对分析误差\n",
      "结果     0.9485       0.1743    0.9485   0.0564   0.2376        4.4060\n",
      "****************************************************************************************************\n"
     ]
    }
   ],
   "source": [
    "import numpy as np\n",
    "from sklearn.metrics import *\n",
    "\n",
    "def evaluating(y_true, y_pre, samplesets=\"验证集\"):\n",
    "    \"\"\"\n",
    "    :param y_true: (n_samples, )\n",
    "    :param y_pre: (n_samples, )\n",
    "    :samplesets: string\n",
    "    :return: None\n",
    "    \"\"\"\n",
    "    evs_ = explained_variance_score(y_true, y_pre)\n",
    "    mae_ = mean_absolute_error(y_true, y_pre)\n",
    "    mse_ = mean_squared_error(y_true, y_pre)\n",
    "    r2_ = r2_score(y_true, y_pre)\n",
    "    rmse_ = np.sqrt(mse_)\n",
    "    rpd_ = np.std(y_true)/rmse_\n",
    "\n",
    "    print(\"*\"*100)\n",
    "    print(samplesets + ' 解释方差得分  平均绝对误差  决定系数  均方误差  均方根误差  相对分析误差')\n",
    "    print('结果     %6.4f       %6.4f    %6.4f   %6.4f   %6.4f        %6.4f' % (evs_, mae_, r2_, mse_, rmse_, rpd_))\n",
    "    print(\"*\"*100)\n",
    "evaluating(pre1,Y_A1)"
   ]
  },
  {
   "cell_type": "code",
   "execution_count": null,
   "id": "999d5d3b",
   "metadata": {},
   "outputs": [],
   "source": []
  },
  {
   "cell_type": "code",
   "execution_count": null,
   "id": "1874b9ea",
   "metadata": {},
   "outputs": [],
   "source": []
  },
  {
   "cell_type": "code",
   "execution_count": null,
   "id": "5b70ec18",
   "metadata": {},
   "outputs": [],
   "source": []
  },
  {
   "cell_type": "code",
   "execution_count": null,
   "id": "da599d6e",
   "metadata": {},
   "outputs": [],
   "source": []
  },
  {
   "cell_type": "code",
   "execution_count": null,
   "id": "25501f9a",
   "metadata": {},
   "outputs": [],
   "source": []
  }
 ],
 "metadata": {
  "kernelspec": {
   "display_name": "Python 3",
   "language": "python",
   "name": "python3"
  },
  "language_info": {
   "codemirror_mode": {
    "name": "ipython",
    "version": 3
   },
   "file_extension": ".py",
   "mimetype": "text/x-python",
   "name": "python",
   "nbconvert_exporter": "python",
   "pygments_lexer": "ipython3",
   "version": "3.6.13"
  }
 },
 "nbformat": 4,
 "nbformat_minor": 5
}
