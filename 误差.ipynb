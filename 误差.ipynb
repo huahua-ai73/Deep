{
 "cells": [
  {
   "cell_type": "code",
   "execution_count": 1,
   "id": "42c4d5cf",
   "metadata": {},
   "outputs": [
    {
     "name": "stdout",
     "output_type": "stream",
     "text": [
      "****************************************************************************************************\n",
      "验证集 解释方差得分  平均绝对误差  决定系数  均方误差  均方根误差  相对分析误差\n",
      "结果     0.9987       0.7052    0.9987   0.7185   0.8477        27.4823\n",
      "****************************************************************************************************\n"
     ]
    }
   ],
   "source": [
    "import numpy as np\n",
    "from sklearn.metrics import *\n",
    "\n",
    "def evaluating(y_true, y_pre, samplesets=\"验证集\"):\n",
    "    \"\"\"\n",
    "    :param y_true: (n_samples, )\n",
    "    :param y_pre: (n_samples, )\n",
    "    :samplesets: string\n",
    "    :return: None\n",
    "    \"\"\"\n",
    "    evs_ = explained_variance_score(y_true, y_pre)\n",
    "    mae_ = mean_absolute_error(y_true, y_pre)\n",
    "    mse_ = mean_squared_error(y_true, y_pre)\n",
    "    r2_ = r2_score(y_true, y_pre)\n",
    "    rmse_ = np.sqrt(mse_)\n",
    "    rpd_ = np.std(y_true)/rmse_\n",
    "\n",
    "    print(\"*\"*100)\n",
    "    print(samplesets + ' 解释方差得分  平均绝对误差  决定系数  均方误差  均方根误差  相对分析误差')\n",
    "    print('结果     %6.4f       %6.4f    %6.4f   %6.4f   %6.4f        %6.4f' % (evs_, mae_, r2_, mse_, rmse_, rpd_))\n",
    "    print(\"*\"*100)\n",
    "\n",
    "np.random.seed(666)\n",
    "y_true = np.random.randint(10, 100, 50)\n",
    "noise = np.random.normal(size=(50,))\n",
    "y_pre = [elem+n for elem, n in zip(list(y_true), list(noise))]\n",
    "evaluating(y_true, y_pre)\n"
   ]
  },
  {
   "cell_type": "code",
   "execution_count": null,
   "id": "c86dff30",
   "metadata": {},
   "outputs": [],
   "source": []
  }
 ],
 "metadata": {
  "kernelspec": {
   "display_name": "Python 3",
   "language": "python",
   "name": "python3"
  },
  "language_info": {
   "codemirror_mode": {
    "name": "ipython",
    "version": 3
   },
   "file_extension": ".py",
   "mimetype": "text/x-python",
   "name": "python",
   "nbconvert_exporter": "python",
   "pygments_lexer": "ipython3",
   "version": "3.6.13"
  }
 },
 "nbformat": 4,
 "nbformat_minor": 5
}
