{
 "cells": [
  {
   "cell_type": "code",
   "execution_count": 3,
   "id": "4baa7946",
   "metadata": {},
   "outputs": [
    {
     "name": "stdout",
     "output_type": "stream",
     "text": [
      "(530, 1050) (530,)\n"
     ]
    }
   ],
   "source": [
    "#导入第三方包\n",
    "import numpy as np\n",
    "import pandas as pd\n",
    "a =  pd.read_excel(r'xh.xlsx')\n",
    "data = np.array(a)\n",
    "x,y = data[:,:1050],data[:,1050]\n",
    "print(x.shape,y.shape)"
   ]
  },
  {
   "cell_type": "code",
   "execution_count": 4,
   "id": "0df6f984",
   "metadata": {},
   "outputs": [],
   "source": [
    "from sklearn.model_selection import train_test_split\n",
    "#划分训练集和测试集\n",
    "X_train,X_test,Y_train,Y_test = train_test_split(x,y, test_size=0.2 , random_state=0)"
   ]
  },
  {
   "cell_type": "code",
   "execution_count": 5,
   "id": "17fb26e1",
   "metadata": {},
   "outputs": [
    {
     "name": "stdout",
     "output_type": "stream",
     "text": [
      "10.036173612553485\n"
     ]
    }
   ],
   "source": [
    "#选取BP神经网络隐藏节点的经验原则之一\n",
    "import math\n",
    "#选择小于10个节点\n",
    "a = math.log2(1050)\n",
    "print(a)"
   ]
  },
  {
   "cell_type": "code",
   "execution_count": 6,
   "id": "dc6f6d1d",
   "metadata": {},
   "outputs": [
    {
     "name": "stdout",
     "output_type": "stream",
     "text": [
      "-0.16346239770906323\n",
      "[[1.73236151]] [-0.37337821]\n"
     ]
    }
   ],
   "source": [
    "from sklearn.neural_network import MLPRegressor\n",
    "# BP神经网络回归模型\n",
    "#隐藏层的数量，以及神经元的数量为10\n",
    "#如果是int，则random_state是随机数生成器使用的种子; \n",
    "#如果是RandomState实例，则random_state是随机数生成器; \n",
    "#如果为None，则随机数生成器是np.random使用的RandomState实例\n",
    "model = MLPRegressor(hidden_layer_sizes=(10,), random_state=1,learning_rate_init=0.1) \n",
    "# 训练模型\n",
    "model.fit(X_train,Y_train)\n",
    "# 模型预测\n",
    "pre = model.predict(X_test)\n",
    "#返回的是决定系数\n",
    "print(model.score(X_test,Y_test))\n",
    "from sklearn.linear_model import LinearRegression\n",
    "model = LinearRegression()\n",
    "#将pre1、Y_A1改写成格式一致的值\n",
    "pre1 = pre.reshape(-1,1)\n",
    "Y_A1 = Y_test.reshape(-1,1)\n",
    "#训练出线性关系\n",
    "model.fit(Y_A1,pre1)\n",
    "#输出斜率和截距\n",
    "k = model.coef_\n",
    "b = model.intercept_\n",
    "print(k,b)"
   ]
  },
  {
   "cell_type": "code",
   "execution_count": 7,
   "id": "16c2a531",
   "metadata": {},
   "outputs": [
    {
     "name": "stdout",
     "output_type": "stream",
     "text": [
      "-2.3972560941614867\n",
      "[[0.64486421]] [0.17342198]\n"
     ]
    }
   ],
   "source": [
    "from sklearn.neural_network import MLPRegressor\n",
    "# BP神经网络回归模型\n",
    "model = MLPRegressor(hidden_layer_sizes=(15,), random_state=1,learning_rate_init=0.1) \n",
    "# 训练模型\n",
    "model.fit(X_train,Y_train)\n",
    "# 模型预测\n",
    "pre = model.predict(X_test)\n",
    "print(model.score(X_test,Y_test))\n",
    "from sklearn.linear_model import LinearRegression\n",
    "model = LinearRegression()\n",
    "pre2 = pre.reshape(-1,1)\n",
    "Y_A1 = Y_test.reshape(-1,1)\n",
    "model.fit(Y_A1,pre2)\n",
    "k = model.coef_\n",
    "b = model.intercept_\n",
    "print(k,b)"
   ]
  },
  {
   "cell_type": "code",
   "execution_count": 12,
   "id": "780a0fee",
   "metadata": {},
   "outputs": [
    {
     "name": "stdout",
     "output_type": "stream",
     "text": [
      "-572.4654761609168\n",
      "[[-0.04306477]] [-0.03277533]\n"
     ]
    }
   ],
   "source": [
    "from sklearn.neural_network import MLPRegressor\n",
    "# BP神经网络回归模型\n",
    "model = MLPRegressor(hidden_layer_sizes=(100,), random_state=1,learning_rate_init=0.1) \n",
    "# 训练模型\n",
    "model.fit(X_train,Y_train)\n",
    "# 模型预测\n",
    "pre = model.predict(X_test)\n",
    "print(model.score(X_test,Y_test))\n",
    "from sklearn.linear_model import LinearRegression\n",
    "model = LinearRegression()\n",
    "pre3 = pre.reshape(-1,1)\n",
    "Y_A1 = Y_test.reshape(-1,1)\n",
    "model.fit(Y_A1,pre3)\n",
    "k = model.coef_\n",
    "b = model.intercept_\n",
    "print(k,b)"
   ]
  },
  {
   "cell_type": "code",
   "execution_count": 13,
   "id": "a713ef42",
   "metadata": {},
   "outputs": [
    {
     "name": "stdout",
     "output_type": "stream",
     "text": [
      "-0.00025049956609857205\n",
      "[[0.]] [0.51089982]\n"
     ]
    }
   ],
   "source": [
    "from sklearn.neural_network import MLPRegressor\n",
    "# BP神经网络回归模型\n",
    "model = MLPRegressor(hidden_layer_sizes=(9,), activation='relu',solver='adam',random_state=1,\n",
    "                     learning_rate='adaptive',learning_rate_init=0.1,max_iter = 2000) \n",
    "# 训练模型\n",
    "model.fit(X_train,Y_train)\n",
    "# 模型预测\n",
    "pre = model.predict(X_test)\n",
    "print(model.score(X_test,Y_test))\n",
    "from sklearn.linear_model import LinearRegression\n",
    "model = LinearRegression()\n",
    "pre4 = pre.reshape(-1,1)\n",
    "Y_A1 = Y_test.reshape(-1,1)\n",
    "model.fit(Y_A1,pre4)\n",
    "k = model.coef_\n",
    "b = model.intercept_\n",
    "print(k,b)"
   ]
  },
  {
   "cell_type": "code",
   "execution_count": 14,
   "id": "9cdbffb3",
   "metadata": {},
   "outputs": [
    {
     "name": "stdout",
     "output_type": "stream",
     "text": [
      "-4.438541226484308\n",
      "[[1.15266097]] [-0.08684482]\n"
     ]
    }
   ],
   "source": [
    "from sklearn.neural_network import MLPRegressor\n",
    "# BP神经网络回归模型\n",
    "model = MLPRegressor(hidden_layer_sizes=(9,),activation='identity',random_state=1,learning_rate_init=0.1) \n",
    "# 训练模型\n",
    "model.fit(X_train,Y_train)\n",
    "# 模型预测\n",
    "pre = model.predict(X_test)\n",
    "print(model.score(X_test,Y_test))\n",
    "from sklearn.linear_model import LinearRegression\n",
    "model = LinearRegression()\n",
    "pre5 = pre.reshape(-1,1)\n",
    "Y_A1 = Y_test.reshape(-1,1)\n",
    "model.fit(Y_A1,pre5)\n",
    "k = model.coef_\n",
    "b = model.intercept_\n",
    "print(k,b)"
   ]
  },
  {
   "cell_type": "code",
   "execution_count": 16,
   "id": "b33875b1",
   "metadata": {},
   "outputs": [
    {
     "data": {
      "text/plain": [
       "<matplotlib.collections.PathCollection at 0x1b480285ac8>"
      ]
     },
     "execution_count": 16,
     "metadata": {},
     "output_type": "execute_result"
    },
    {
     "data": {
      "image/png": "[encoded data removed]",
      "text/plain": [
       "<Figure size 432x288 with 1 Axes>"
      ]
     },
     "metadata": {
      "needs_background": "light"
     },
     "output_type": "display_data"
    }
   ],
   "source": [
    "import matplotlib.pyplot as plt\n",
    "#希望预测值和真实值出现的线性图像\n",
    "plt.scatter(Y_test,Y_test)"
   ]
  },
  {
   "cell_type": "code",
   "execution_count": 17,
   "id": "868bb496",
   "metadata": {},
   "outputs": [
    {
     "data": {
      "image/png": "[encoded data removed]",
      "text/plain": [
       "<Figure size 432x288 with 1 Axes>"
      ]
     },
     "metadata": {
      "needs_background": "light"
     },
     "output_type": "display_data"
    }
   ],
   "source": [
    "import matplotlib.pyplot as plt\n",
    "plt.scatter(Y_test,pre1)\n",
    "x = np.linspace(0.45,0.6,530)\n",
    "y = 1.73236151*x-0.37337821\n",
    "plt.plot(x,y)\n",
    "plt.show()"
   ]
  },
  {
   "cell_type": "code",
   "execution_count": 19,
   "id": "a8708a97",
   "metadata": {},
   "outputs": [
    {
     "data": {
      "image/png": "[encoded data removed]",
      "text/plain": [
       "<Figure size 432x288 with 1 Axes>"
      ]
     },
     "metadata": {
      "needs_background": "light"
     },
     "output_type": "display_data"
    }
   ],
   "source": [
    "import numpy as np\n",
    "x = np.linspace(0.45,0.6,106)\n",
    "plt.plot(x,Y_test)\n",
    "plt.plot(x,pre1)\n",
    "plt.show()"
   ]
  },
  {
   "cell_type": "code",
   "execution_count": null,
   "id": "0807654c",
   "metadata": {},
   "outputs": [],
   "source": [
    "import matplotlib.pyplot as plt\n",
    "plt.scatter(Y_test,pre2)\n",
    "x = np.linspace(0.45,0.6,530)\n",
    "y = 0.64486421*x+0.17342198\n",
    "plt.plot(x,y)\n",
    "plt.show()"
   ]
  },
  {
   "cell_type": "code",
   "execution_count": null,
   "id": "bd9a3481",
   "metadata": {},
   "outputs": [],
   "source": [
    "print(pre3)"
   ]
  },
  {
   "cell_type": "code",
   "execution_count": null,
   "id": "d333940d",
   "metadata": {},
   "outputs": [],
   "source": [
    "import matplotlib.pyplot as plt\n",
    "plt.scatter(Y_test,pre3)\n",
    "x = np.linspace(0.45,0.6,530)\n",
    "y = 4.97462265*x-2.00680237\n",
    "plt.plot(x,y)\n",
    "plt.show()"
   ]
  },
  {
   "cell_type": "code",
   "execution_count": null,
   "id": "387c00fb",
   "metadata": {},
   "outputs": [],
   "source": [
    "print(pre4[2])"
   ]
  },
  {
   "cell_type": "code",
   "execution_count": null,
   "id": "11c48306",
   "metadata": {},
   "outputs": [],
   "source": [
    "import matplotlib.pyplot as plt\n",
    "#将X_test送进隐藏节点为9的BP神经网络中，输出的值都一样\n",
    "plt.scatter(Y_test,pre4)\n",
    "x = np.linspace(0.45,0.6,530)\n",
    "y = 0*x+0.51089982\n",
    "plt.plot(x,y)\n",
    "plt.show()\n",
    "#得出结论pre4和Y_test无线性关系，因为斜率趋于零"
   ]
  },
  {
   "cell_type": "code",
   "execution_count": null,
   "id": "17b5e330",
   "metadata": {},
   "outputs": [],
   "source": [
    "#得出隐藏节点为9的BP神经网络中，所输出节点与真实值的平均值相差不多\n",
    "print(Y_test.mean())\n",
    "#再测试使用identity函数的BP神经网络"
   ]
  },
  {
   "cell_type": "code",
   "execution_count": null,
   "id": "0501cbc0",
   "metadata": {},
   "outputs": [],
   "source": [
    "import matplotlib.pyplot as plt\n",
    "#将X_test送进隐藏节点为9的BP神经网络中，输出的值都一样\n",
    "plt.scatter(Y_test,pre5)\n",
    "x = np.linspace(0.45,0.6,530)\n",
    "y = 1.15266097*x-0.08684482\n",
    "plt.plot(x,y)\n",
    "plt.show()"
   ]
  },
  {
   "cell_type": "code",
   "execution_count": null,
   "id": "43fa5c3a",
   "metadata": {},
   "outputs": [],
   "source": [
    "import numpy as np\n",
    "from sklearn.metrics import *\n",
    "\n",
    "def evaluating(y_true, y_pre, samplesets=\"验证集\"):\n",
    "    \"\"\"\n",
    "    :param y_true: (n_samples, )\n",
    "    :param y_pre: (n_samples, )\n",
    "    :samplesets: string\n",
    "    :return: None\n",
    "    \"\"\"\n",
    "    evs_ = explained_variance_score(y_true, y_pre)\n",
    "    mae_ = mean_absolute_error(y_true, y_pre)\n",
    "    mse_ = mean_squared_error(y_true, y_pre)\n",
    "    r2_ = r2_score(y_true, y_pre)\n",
    "    rmse_ = np.sqrt(mse_)\n",
    "    rpd_ = np.std(y_true)/rmse_\n",
    "\n",
    "    print(\"*\"*100)\n",
    "    print(samplesets + ' 解释方差得分  平均绝对误差  决定系数  均方误差  均方根误差  相对分析误差')\n",
    "    print('结果     %6.4f       %6.4f    %6.4f   %6.4f   %6.4f        %6.4f' % (evs_, mae_, r2_, mse_, rmse_, rpd_))\n",
    "    print(\"*\"*100)\n",
    "evaluating(Y_test, pre1)"
   ]
  },
  {
   "cell_type": "code",
   "execution_count": null,
   "id": "20c38943",
   "metadata": {},
   "outputs": [],
   "source": [
    "import numpy as np\n",
    "from sklearn.metrics import *\n",
    "\n",
    "def evaluating(y_true, y_pre, samplesets=\"验证集\"):\n",
    "    \"\"\"\n",
    "    :param y_true: (n_samples, )\n",
    "    :param y_pre: (n_samples, )\n",
    "    :samplesets: string\n",
    "    :return: None\n",
    "    \"\"\"\n",
    "    evs_ = explained_variance_score(y_true, y_pre)\n",
    "    mae_ = mean_absolute_error(y_true, y_pre)\n",
    "    mse_ = mean_squared_error(y_true, y_pre)\n",
    "    r2_ = r2_score(y_true, y_pre)\n",
    "    rmse_ = np.sqrt(mse_)\n",
    "    rpd_ = np.std(y_true)/rmse_\n",
    "\n",
    "    print(\"*\"*100)\n",
    "    print(samplesets + ' 解释方差得分  平均绝对误差  决定系数  均方误差  均方根误差  相对分析误差')\n",
    "    print('结果     %6.4f       %6.4f    %6.4f   %6.4f   %6.4f        %6.4f' % (evs_, mae_, r2_, mse_, rmse_, rpd_))\n",
    "    print(\"*\"*100)\n",
    "evaluating(Y_test, pre2)"
   ]
  },
  {
   "cell_type": "code",
   "execution_count": null,
   "id": "89c99fcb",
   "metadata": {},
   "outputs": [],
   "source": [
    "import numpy as np\n",
    "from sklearn.metrics import *\n",
    "\n",
    "def evaluating(y_true, y_pre, samplesets=\"验证集\"):\n",
    "    \"\"\"\n",
    "    :param y_true: (n_samples, )\n",
    "    :param y_pre: (n_samples, )\n",
    "    :samplesets: string\n",
    "    :return: None\n",
    "    \"\"\"\n",
    "    evs_ = explained_variance_score(y_true, y_pre)\n",
    "    mae_ = mean_absolute_error(y_true, y_pre)\n",
    "    mse_ = mean_squared_error(y_true, y_pre)\n",
    "    r2_ = r2_score(y_true, y_pre)\n",
    "    rmse_ = np.sqrt(mse_)\n",
    "    rpd_ = np.std(y_true)/rmse_\n",
    "\n",
    "    print(\"*\"*100)\n",
    "    print(samplesets + ' 解释方差得分  平均绝对误差  决定系数  均方误差  均方根误差  相对分析误差')\n",
    "    print('结果     %6.4f       %6.4f    %6.4f   %6.4f   %6.4f        %6.4f' % (evs_, mae_, r2_, mse_, rmse_, rpd_))\n",
    "    print(\"*\"*100)\n",
    "evaluating(Y_test, pre3)"
   ]
  },
  {
   "cell_type": "code",
   "execution_count": null,
   "id": "b1fc9fba",
   "metadata": {},
   "outputs": [],
   "source": [
    "import numpy as np\n",
    "from sklearn.metrics import *\n",
    "\n",
    "def evaluating(y_true, y_pre, samplesets=\"验证集\"):\n",
    "    \"\"\"\n",
    "    :param y_true: (n_samples, )\n",
    "    :param y_pre: (n_samples, )\n",
    "    :samplesets: string\n",
    "    :return: None\n",
    "    \"\"\"\n",
    "    evs_ = explained_variance_score(y_true, y_pre)\n",
    "    mae_ = mean_absolute_error(y_true, y_pre)\n",
    "    mse_ = mean_squared_error(y_true, y_pre)\n",
    "    r2_ = r2_score(y_true, y_pre)\n",
    "    rmse_ = np.sqrt(mse_)\n",
    "    rpd_ = np.std(y_true)/rmse_\n",
    "\n",
    "    print(\"*\"*100)\n",
    "    print(samplesets + ' 解释方差得分  平均绝对误差  决定系数  均方误差  均方根误差  相对分析误差')\n",
    "    print('结果     %6.4f       %6.4f    %6.4f   %6.4f   %6.4f        %6.4f' % (evs_, mae_, r2_, mse_, rmse_, rpd_))\n",
    "    print(\"*\"*100)\n",
    "evaluating(Y_test, pre3)"
   ]
  },
  {
   "cell_type": "code",
   "execution_count": null,
   "id": "4864c31f",
   "metadata": {},
   "outputs": [],
   "source": [
    "import numpy as np\n",
    "from sklearn.metrics import *\n",
    "\n",
    "def evaluating(y_true, y_pre, samplesets=\"验证集\"):\n",
    "    \"\"\"\n",
    "    :param y_true: (n_samples, )\n",
    "    :param y_pre: (n_samples, )\n",
    "    :samplesets: string\n",
    "    :return: None\n",
    "    \"\"\"\n",
    "    evs_ = explained_variance_score(y_true, y_pre)\n",
    "    mae_ = mean_absolute_error(y_true, y_pre)\n",
    "    mse_ = mean_squared_error(y_true, y_pre)\n",
    "    r2_ = r2_score(y_true, y_pre)\n",
    "    rmse_ = np.sqrt(mse_)\n",
    "    rpd_ = np.std(y_true)/rmse_\n",
    "\n",
    "    print(\"*\"*100)\n",
    "    print(samplesets + ' 解释方差得分  平均绝对误差  决定系数  均方误差  均方根误差  相对分析误差')\n",
    "    print('结果     %6.4f       %6.4f    %6.4f   %6.4f   %6.4f        %6.4f' % (evs_, mae_, r2_, mse_, rmse_, rpd_))\n",
    "    print(\"*\"*100)\n",
    "evaluating(Y_test, pre4)"
   ]
  },
  {
   "cell_type": "code",
   "execution_count": null,
   "id": "2313a124",
   "metadata": {},
   "outputs": [],
   "source": [
    "import numpy as np\n",
    "from sklearn.metrics import *\n",
    "\n",
    "def evaluating(y_true, y_pre, samplesets=\"验证集\"):\n",
    "    \"\"\"\n",
    "    :param y_true: (n_samples, )\n",
    "    :param y_pre: (n_samples, )\n",
    "    :samplesets: string\n",
    "    :return: None\n",
    "    \"\"\"\n",
    "    evs_ = explained_variance_score(y_true, y_pre)\n",
    "    mae_ = mean_absolute_error(y_true, y_pre)\n",
    "    mse_ = mean_squared_error(y_true, y_pre)\n",
    "    r2_ = r2_score(y_true, y_pre)\n",
    "    rmse_ = np.sqrt(mse_)\n",
    "    rpd_ = np.std(y_true)/rmse_\n",
    "\n",
    "    print(\"*\"*100)\n",
    "    print(samplesets + ' 解释方差得分  平均绝对误差  决定系数  均方误差  均方根误差  相对分析误差')\n",
    "    print('结果     %6.4f       %6.4f    %6.4f   %6.4f   %6.4f        %6.4f' % (evs_, mae_, r2_, mse_, rmse_, rpd_))\n",
    "    print(\"*\"*100)\n",
    "evaluating(Y_test, pre5)"
   ]
  },
  {
   "cell_type": "code",
   "execution_count": null,
   "id": "f6300525",
   "metadata": {},
   "outputs": [],
   "source": [
    "pre = np.mean(Y_test)\n",
    "print(pre)"
   ]
  },
  {
   "cell_type": "code",
   "execution_count": null,
   "id": "bbb41660",
   "metadata": {},
   "outputs": [],
   "source": [
    "print(Y_test.shape)"
   ]
  },
  {
   "cell_type": "code",
   "execution_count": null,
   "id": "fb7cf97d",
   "metadata": {},
   "outputs": [],
   "source": [
    "pre6 = [0.5105169254716981]\n",
    "pre6 = pre6*106\n",
    "pre6 = np.array(pre6)\n",
    "print(pre6.shape)"
   ]
  },
  {
   "cell_type": "code",
   "execution_count": null,
   "id": "2564c77d",
   "metadata": {},
   "outputs": [],
   "source": [
    "#测试用均值代替BP网络预测值与真实值比较\n",
    "import numpy as np\n",
    "from sklearn.metrics import *\n",
    "\n",
    "def evaluating(y_true, y_pre, samplesets=\"验证集\"):\n",
    "    \"\"\"\n",
    "    :param y_true: (n_samples, )\n",
    "    :param y_pre: (n_samples, )\n",
    "    :samplesets: string\n",
    "    :return: None\n",
    "    \"\"\"\n",
    "    evs_ = explained_variance_score(y_true, y_pre)\n",
    "    mae_ = mean_absolute_error(y_true, y_pre)\n",
    "    mse_ = mean_squared_error(y_true, y_pre)\n",
    "    r2_ = r2_score(y_true, y_pre)\n",
    "    rmse_ = np.sqrt(mse_)\n",
    "    rpd_ = np.std(y_true)/rmse_\n",
    "\n",
    "    print(\"*\"*100)\n",
    "    print(samplesets + ' 解释方差得分  平均绝对误差  决定系数  均方误差  均方根误差  相对分析误差')\n",
    "    print('结果     %6.4f       %6.4f    %6.4f   %6.4f   %6.4f        %6.4f' % (evs_, mae_, r2_, mse_, rmse_, rpd_))\n",
    "    print(\"*\"*100)\n",
    "evaluating(Y_test, pre6)"
   ]
  },
  {
   "cell_type": "code",
   "execution_count": null,
   "id": "21c34022",
   "metadata": {},
   "outputs": [],
   "source": []
  },
  {
   "cell_type": "code",
   "execution_count": null,
   "id": "ba3a152b",
   "metadata": {},
   "outputs": [],
   "source": []
  }
 ],
 "metadata": {
  "kernelspec": {
   "display_name": "Python 3",
   "language": "python",
   "name": "python3"
  },
  "language_info": {
   "codemirror_mode": {
    "name": "ipython",
    "version": 3
   },
   "file_extension": ".py",
   "mimetype": "text/x-python",
   "name": "python",
   "nbconvert_exporter": "python",
   "pygments_lexer": "ipython3",
   "version": "3.6.13"
  }
 },
 "nbformat": 4,
 "nbformat_minor": 5
}
