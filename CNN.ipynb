{
 "cells": [
  {
   "cell_type": "code",
   "execution_count": 24,
   "id": "43099018",
   "metadata": {},
   "outputs": [],
   "source": [
    "import tensorflow as tf\n",
    "from sklearn.datasets import load_digits\n",
    "import numpy as np"
   ]
  },
  {
   "cell_type": "code",
   "execution_count": 25,
   "id": "52c1c25c",
   "metadata": {},
   "outputs": [
    {
     "name": "stdout",
     "output_type": "stream",
     "text": [
      "(1797, 64)\n",
      "(1797, 1)\n"
     ]
    }
   ],
   "source": [
    "digits = load_digits()\n",
    "#将数据改写成浮点数\n",
    "X_data = digits.data.astype(np.float32)\n",
    "Y_data = digits.target.astype(np.float32).reshape(-1,1)\n",
    "print (X_data.shape)\n",
    "print (Y_data.shape)"
   ]
  },
  {
   "cell_type": "code",
   "execution_count": 26,
   "id": "db9cc666",
   "metadata": {},
   "outputs": [],
   "source": [
    "#导入标准化包\n",
    "from sklearn.preprocessing import MinMaxScaler"
   ]
  },
  {
   "cell_type": "code",
   "execution_count": 27,
   "id": "802e607d",
   "metadata": {},
   "outputs": [
    {
     "name": "stdout",
     "output_type": "stream",
     "text": [
      "<class 'numpy.matrix'>\n"
     ]
    }
   ],
   "source": [
    "scaler = MinMaxScaler()\n",
    "#标准化数据\n",
    "X_data = scaler.fit_transform(X_data)\n",
    "from sklearn.preprocessing import OneHotEncoder\n",
    "##one-hot编码\n",
    "Y = OneHotEncoder().fit_transform(Y_data).todense() \n",
    "print(type(Y))"
   ]
  },
  {
   "cell_type": "code",
   "execution_count": 28,
   "id": "5bf7ef93",
   "metadata": {},
   "outputs": [
    {
     "name": "stdout",
     "output_type": "stream",
     "text": [
      "[[[[0.        ]\n",
      "   [0.        ]\n",
      "   [0.3125    ]\n",
      "   ...\n",
      "   [0.0625    ]\n",
      "   [0.        ]\n",
      "   [0.        ]]\n",
      "\n",
      "  [[0.        ]\n",
      "   [0.        ]\n",
      "   [0.8125    ]\n",
      "   ...\n",
      "   [0.9375    ]\n",
      "   [0.3125    ]\n",
      "   [0.        ]]\n",
      "\n",
      "  [[0.        ]\n",
      "   [0.1875    ]\n",
      "   [0.9375    ]\n",
      "   ...\n",
      "   [0.6875    ]\n",
      "   [0.5       ]\n",
      "   [0.        ]]\n",
      "\n",
      "  ...\n",
      "\n",
      "  [[0.        ]\n",
      "   [0.25      ]\n",
      "   [0.6875    ]\n",
      "   ...\n",
      "   [0.75      ]\n",
      "   [0.4375    ]\n",
      "   [0.        ]]\n",
      "\n",
      "  [[0.        ]\n",
      "   [0.125     ]\n",
      "   [0.875     ]\n",
      "   ...\n",
      "   [0.75      ]\n",
      "   [0.        ]\n",
      "   [0.        ]]\n",
      "\n",
      "  [[0.        ]\n",
      "   [0.        ]\n",
      "   [0.375     ]\n",
      "   ...\n",
      "   [0.        ]\n",
      "   [0.        ]\n",
      "   [0.        ]]]\n",
      "\n",
      "\n",
      " [[[0.        ]\n",
      "   [0.        ]\n",
      "   [0.        ]\n",
      "   ...\n",
      "   [0.3125    ]\n",
      "   [0.        ]\n",
      "   [0.        ]]\n",
      "\n",
      "  [[0.        ]\n",
      "   [0.        ]\n",
      "   [0.        ]\n",
      "   ...\n",
      "   [0.5625    ]\n",
      "   [0.        ]\n",
      "   [0.        ]]\n",
      "\n",
      "  [[0.        ]\n",
      "   [0.        ]\n",
      "   [0.1875    ]\n",
      "   ...\n",
      "   [0.375     ]\n",
      "   [0.        ]\n",
      "   [0.        ]]\n",
      "\n",
      "  ...\n",
      "\n",
      "  [[0.        ]\n",
      "   [0.        ]\n",
      "   [0.0625    ]\n",
      "   ...\n",
      "   [0.375     ]\n",
      "   [0.        ]\n",
      "   [0.        ]]\n",
      "\n",
      "  [[0.        ]\n",
      "   [0.        ]\n",
      "   [0.0625    ]\n",
      "   ...\n",
      "   [0.375     ]\n",
      "   [0.        ]\n",
      "   [0.        ]]\n",
      "\n",
      "  [[0.        ]\n",
      "   [0.        ]\n",
      "   [0.        ]\n",
      "   ...\n",
      "   [0.625     ]\n",
      "   [0.        ]\n",
      "   [0.        ]]]\n",
      "\n",
      "\n",
      " [[[0.        ]\n",
      "   [0.        ]\n",
      "   [0.        ]\n",
      "   ...\n",
      "   [0.75      ]\n",
      "   [0.        ]\n",
      "   [0.        ]]\n",
      "\n",
      "  [[0.        ]\n",
      "   [0.        ]\n",
      "   [0.1875    ]\n",
      "   ...\n",
      "   [0.875     ]\n",
      "   [0.        ]\n",
      "   [0.        ]]\n",
      "\n",
      "  [[0.        ]\n",
      "   [0.        ]\n",
      "   [0.5       ]\n",
      "   ...\n",
      "   [1.        ]\n",
      "   [0.        ]\n",
      "   [0.        ]]\n",
      "\n",
      "  ...\n",
      "\n",
      "  [[0.        ]\n",
      "   [0.5625    ]\n",
      "   [1.        ]\n",
      "   ...\n",
      "   [0.        ]\n",
      "   [0.        ]\n",
      "   [0.        ]]\n",
      "\n",
      "  [[0.        ]\n",
      "   [0.1875    ]\n",
      "   [0.8125    ]\n",
      "   ...\n",
      "   [0.6875    ]\n",
      "   [0.3125    ]\n",
      "   [0.        ]]\n",
      "\n",
      "  [[0.        ]\n",
      "   [0.        ]\n",
      "   [0.        ]\n",
      "   ...\n",
      "   [1.        ]\n",
      "   [0.5625    ]\n",
      "   [0.        ]]]\n",
      "\n",
      "\n",
      " ...\n",
      "\n",
      "\n",
      " [[[0.        ]\n",
      "   [0.        ]\n",
      "   [0.0625    ]\n",
      "   ...\n",
      "   [0.0625    ]\n",
      "   [0.        ]\n",
      "   [0.        ]]\n",
      "\n",
      "  [[0.        ]\n",
      "   [0.        ]\n",
      "   [0.8125    ]\n",
      "   ...\n",
      "   [0.125     ]\n",
      "   [0.0625    ]\n",
      "   [0.        ]]\n",
      "\n",
      "  [[0.        ]\n",
      "   [0.        ]\n",
      "   [1.        ]\n",
      "   ...\n",
      "   [1.        ]\n",
      "   [0.3125    ]\n",
      "   [0.        ]]\n",
      "\n",
      "  ...\n",
      "\n",
      "  [[0.        ]\n",
      "   [0.        ]\n",
      "   [1.        ]\n",
      "   ...\n",
      "   [0.9375    ]\n",
      "   [0.        ]\n",
      "   [0.        ]]\n",
      "\n",
      "  [[0.        ]\n",
      "   [0.        ]\n",
      "   [0.9375    ]\n",
      "   ...\n",
      "   [1.        ]\n",
      "   [0.        ]\n",
      "   [0.        ]]\n",
      "\n",
      "  [[0.        ]\n",
      "   [0.        ]\n",
      "   [0.125     ]\n",
      "   ...\n",
      "   [0.375     ]\n",
      "   [0.        ]\n",
      "   [0.        ]]]\n",
      "\n",
      "\n",
      " [[[0.        ]\n",
      "   [0.        ]\n",
      "   [0.125     ]\n",
      "   ...\n",
      "   [0.        ]\n",
      "   [0.        ]\n",
      "   [0.        ]]\n",
      "\n",
      "  [[0.        ]\n",
      "   [0.        ]\n",
      "   [0.875     ]\n",
      "   ...\n",
      "   [0.9375    ]\n",
      "   [0.0625    ]\n",
      "   [0.        ]]\n",
      "\n",
      "  [[0.        ]\n",
      "   [0.25      ]\n",
      "   [1.        ]\n",
      "   ...\n",
      "   [1.        ]\n",
      "   [0.4375    ]\n",
      "   [0.        ]]\n",
      "\n",
      "  ...\n",
      "\n",
      "  [[0.        ]\n",
      "   [0.        ]\n",
      "   [0.        ]\n",
      "   ...\n",
      "   [1.        ]\n",
      "   [0.125     ]\n",
      "   [0.        ]]\n",
      "\n",
      "  [[0.        ]\n",
      "   [0.        ]\n",
      "   [0.25      ]\n",
      "   ...\n",
      "   [1.        ]\n",
      "   [0.125     ]\n",
      "   [0.        ]]\n",
      "\n",
      "  [[0.        ]\n",
      "   [0.        ]\n",
      "   [0.3125    ]\n",
      "   ...\n",
      "   [0.75      ]\n",
      "   [0.        ]\n",
      "   [0.        ]]]\n",
      "\n",
      "\n",
      " [[[0.        ]\n",
      "   [0.        ]\n",
      "   [0.625     ]\n",
      "   ...\n",
      "   [0.0625    ]\n",
      "   [0.        ]\n",
      "   [0.        ]]\n",
      "\n",
      "  [[0.        ]\n",
      "   [0.125     ]\n",
      "   [1.        ]\n",
      "   ...\n",
      "   [0.0625    ]\n",
      "   [0.        ]\n",
      "   [0.        ]]\n",
      "\n",
      "  [[0.        ]\n",
      "   [0.        ]\n",
      "   [0.9375    ]\n",
      "   ...\n",
      "   [0.9375    ]\n",
      "   [0.        ]\n",
      "   [0.        ]]\n",
      "\n",
      "  ...\n",
      "\n",
      "  [[0.        ]\n",
      "   [0.25      ]\n",
      "   [1.        ]\n",
      "   ...\n",
      "   [1.        ]\n",
      "   [0.375     ]\n",
      "   [0.        ]]\n",
      "\n",
      "  [[0.        ]\n",
      "   [0.5       ]\n",
      "   [1.        ]\n",
      "   ...\n",
      "   [1.        ]\n",
      "   [0.5       ]\n",
      "   [0.        ]]\n",
      "\n",
      "  [[0.        ]\n",
      "   [0.11111111]\n",
      "   [0.5       ]\n",
      "   ...\n",
      "   [0.75      ]\n",
      "   [0.0625    ]\n",
      "   [0.        ]]]]\n"
     ]
    }
   ],
   "source": [
    "# 转换为图片的格式 （batch，height，width，channels）\n",
    "X = X_data.reshape(-1,8,8,1)\n",
    "print(X)\n",
    "batch_size = 8 # 使用MBGD算法，设定batch_size为8"
   ]
  },
  {
   "cell_type": "code",
   "execution_count": 29,
   "id": "ff71210a",
   "metadata": {},
   "outputs": [],
   "source": [
    "#定义一个生成批次函数\n",
    "def generatebatch(X,Y,n_examples, batch_size):\n",
    "    #定义一个循环处理\n",
    "    for batch_i in range(n_examples // batch_size):\n",
    "        start = batch_i*batch_size\n",
    "        end = start + batch_size\n",
    "        batch_xs = X[start:end]\n",
    "        batch_ys = Y[start:end]\n",
    "        yield batch_xs, batch_ys # 生成每一个batch"
   ]
  },
  {
   "cell_type": "code",
   "execution_count": 30,
   "id": "8de18a3c",
   "metadata": {},
   "outputs": [],
   "source": [
    "#从tensorflow框架中导入ops包\n",
    "from tensorflow.python.framework import ops\n",
    "ops.reset_default_graph()\n",
    "import tensorflow.compat.v1 as tf\n",
    "tf.compat.v1.disable_eager_execution()\n",
    "# 输入层\n",
    "tf_X = tf.placeholder(tf.float32,[None,8,8,1])\n",
    "tf_Y = tf.placeholder(tf.float32,[None,10])"
   ]
  },
  {
   "cell_type": "code",
   "execution_count": 31,
   "id": "2223fd72",
   "metadata": {},
   "outputs": [],
   "source": [
    "# 卷积层+激活层\n",
    "conv_filter_w1 = tf.Variable(tf.random_normal([3, 3, 1, 10]))\n",
    "conv_filter_b1 =  tf.Variable(tf.random_normal([10]))\n",
    "relu_feature_maps1 = tf.nn.relu(\\\n",
    "                tf.nn.conv2d(tf_X, conv_filter_w1,strides=[1, 1, 1, 1], padding='SAME') + conv_filter_b1)"
   ]
  },
  {
   "cell_type": "code",
   "execution_count": 32,
   "id": "1696e1f8",
   "metadata": {},
   "outputs": [],
   "source": [
    "# 池化层\n",
    "max_pool1 = tf.nn.max_pool(relu_feature_maps1,ksize=[1,3,3,1],strides=[1,2,2,1],padding='SAME')"
   ]
  },
  {
   "cell_type": "code",
   "execution_count": 33,
   "id": "a63dfe81",
   "metadata": {},
   "outputs": [
    {
     "name": "stdout",
     "output_type": "stream",
     "text": [
      "Tensor(\"add_1:0\", shape=(None, 4, 4, 5), dtype=float32)\n"
     ]
    }
   ],
   "source": [
    "# 卷积层\n",
    "conv_filter_w2 = tf.Variable(tf.random_normal([3, 3, 10, 5]))\n",
    "conv_filter_b2 =  tf.Variable(tf.random_normal([5]))\n",
    "conv_out2 = tf.nn.conv2d(relu_feature_maps1, conv_filter_w2,strides=[1, 2, 2, 1], padding='SAME') + conv_filter_b2\n",
    "print (conv_out2)"
   ]
  },
  {
   "cell_type": "code",
   "execution_count": 34,
   "id": "538554e1",
   "metadata": {},
   "outputs": [
    {
     "name": "stdout",
     "output_type": "stream",
     "text": [
      "Tensor(\"batchnorm/add_1:0\", shape=(None, 4, 4, 5), dtype=float32)\n"
     ]
    }
   ],
   "source": [
    "# BN归一化层+激活层 \n",
    "batch_mean, batch_var = tf.nn.moments(conv_out2, [0, 1, 2], keep_dims=True)\n",
    "shift = tf.Variable(tf.zeros([5]))\n",
    "scale = tf.Variable(tf.ones([5]))\n",
    "epsilon = 1e-3\n",
    "BN_out = tf.nn.batch_normalization(conv_out2, batch_mean, batch_var, shift, scale, epsilon)\n",
    "print (BN_out)\n",
    "relu_BN_maps2 = tf.nn.relu(BN_out)"
   ]
  },
  {
   "cell_type": "code",
   "execution_count": 35,
   "id": "faf81560",
   "metadata": {},
   "outputs": [],
   "source": [
    "# 池化层\n",
    "max_pool2 = tf.nn.max_pool(relu_BN_maps2,ksize=[1,3,3,1],strides=[1,2,2,1],padding='SAME')"
   ]
  },
  {
   "cell_type": "code",
   "execution_count": 36,
   "id": "a8d0bf64",
   "metadata": {},
   "outputs": [
    {
     "name": "stdout",
     "output_type": "stream",
     "text": [
      "Tensor(\"MaxPool_1:0\", shape=(None, 2, 2, 5), dtype=float32)\n"
     ]
    }
   ],
   "source": [
    "print (max_pool2)"
   ]
  },
  {
   "cell_type": "code",
   "execution_count": 37,
   "id": "e69fd66b",
   "metadata": {},
   "outputs": [],
   "source": [
    "# 将特征图进行展开\n",
    "max_pool2_flat = tf.reshape(max_pool2, [-1, 2*2*5])"
   ]
  },
  {
   "cell_type": "code",
   "execution_count": 38,
   "id": "da335f48",
   "metadata": {},
   "outputs": [],
   "source": [
    "# 全连接层\n",
    "fc_w1 = tf.Variable(tf.random_normal([2*2*5,50]))\n",
    "fc_b1 =  tf.Variable(tf.random_normal([50]))\n",
    "fc_out1 = tf.nn.relu(tf.matmul(max_pool2_flat, fc_w1) + fc_b1)"
   ]
  },
  {
   "cell_type": "code",
   "execution_count": 39,
   "id": "68d2d76d",
   "metadata": {},
   "outputs": [],
   "source": [
    "# 输出层\n",
    "out_w1 = tf.Variable(tf.random_normal([50,10]))\n",
    "out_b1 = tf.Variable(tf.random_normal([10]))\n",
    "pred = tf.nn.softmax(tf.matmul(fc_out1,out_w1)+out_b1)"
   ]
  },
  {
   "cell_type": "code",
   "execution_count": 40,
   "id": "0dc69401",
   "metadata": {},
   "outputs": [],
   "source": [
    "loss = -tf.reduce_mean(tf_Y*tf.log(tf.clip_by_value(pred,1e-11,1.0)))"
   ]
  },
  {
   "cell_type": "code",
   "execution_count": 41,
   "id": "bcd76b1c",
   "metadata": {},
   "outputs": [],
   "source": [
    "train_step = tf.train.AdamOptimizer(1e-3).minimize(loss)"
   ]
  },
  {
   "cell_type": "code",
   "execution_count": 42,
   "id": "f7c4d954",
   "metadata": {},
   "outputs": [],
   "source": [
    "y_pred = tf.arg_max(pred,1)\n",
    "bool_pred = tf.equal(tf.arg_max(tf_Y,1),y_pred)"
   ]
  },
  {
   "cell_type": "code",
   "execution_count": 43,
   "id": "7a7cad11",
   "metadata": {},
   "outputs": [],
   "source": [
    "accuracy = tf.reduce_mean(tf.cast(bool_pred,tf.float32)) # 准确率"
   ]
  },
  {
   "cell_type": "code",
   "execution_count": 44,
   "id": "a2fbc6e4",
   "metadata": {},
   "outputs": [
    {
     "name": "stdout",
     "output_type": "stream",
     "text": [
      "0 0.14802448\n",
      "100 0.79243183\n",
      "200 0.7957707\n",
      "300 0.79632723\n",
      "400 0.79632723\n",
      "500 0.7957707\n",
      "600 0.79632723\n",
      "700 0.95937675\n",
      "800 0.99109626\n",
      "900 0.99499166\n",
      "[0 1 2 ... 5 9 5]\n"
     ]
    }
   ],
   "source": [
    "with tf.Session() as sess:\n",
    "    sess.run(tf.global_variables_initializer())\n",
    "    for epoch in range(1000): # 迭代1000个周期\n",
    "        for batch_xs,batch_ys in generatebatch(X,Y,Y.shape[0],batch_size): # 每个周期进行MBGD算法\n",
    "            sess.run(train_step,feed_dict={tf_X:batch_xs,tf_Y:batch_ys})\n",
    "        if(epoch%100==0):\n",
    "            res = sess.run(accuracy,feed_dict={tf_X:X,tf_Y:Y})\n",
    "            print (epoch,res)\n",
    "    res_ypred = y_pred.eval(feed_dict={tf_X:X,tf_Y:Y}).flatten() # 只能预测一批样本，不能预测一个样本\n",
    "    print (res_ypred)"
   ]
  },
  {
   "cell_type": "code",
   "execution_count": 45,
   "id": "8699ab78",
   "metadata": {},
   "outputs": [],
   "source": [
    "from sklearn.metrics import  accuracy_score"
   ]
  },
  {
   "cell_type": "code",
   "execution_count": 46,
   "id": "d54176dd",
   "metadata": {},
   "outputs": [
    {
     "name": "stdout",
     "output_type": "stream",
     "text": [
      "0.9938786867000556\n"
     ]
    }
   ],
   "source": [
    "print (accuracy_score(Y_data,res_ypred.reshape(-1,1)))"
   ]
  },
  {
   "cell_type": "code",
   "execution_count": null,
   "id": "b183dec7",
   "metadata": {},
   "outputs": [],
   "source": []
  },
  {
   "cell_type": "code",
   "execution_count": null,
   "id": "4e2631b4",
   "metadata": {},
   "outputs": [],
   "source": []
  }
 ],
 "metadata": {
  "kernelspec": {
   "display_name": "Python 3",
   "language": "python",
   "name": "python3"
  },
  "language_info": {
   "codemirror_mode": {
    "name": "ipython",
    "version": 3
   },
   "file_extension": ".py",
   "mimetype": "text/x-python",
   "name": "python",
   "nbconvert_exporter": "python",
   "pygments_lexer": "ipython3",
   "version": "3.6.13"
  }
 },
 "nbformat": 4,
 "nbformat_minor": 5
}
